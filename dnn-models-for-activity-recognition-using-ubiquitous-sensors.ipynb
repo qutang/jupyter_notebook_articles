{
 "cells": [
  {
   "cell_type": "markdown",
   "metadata": {},
   "source": [
    "---\n",
    "title: 深度学习模型在基于传感器的人类活动识别中的用法\n",
    "series: ml\n",
    "date: 2020-01-15 17:13:52\n",
    "type: post\n",
    "---"
   ]
  },
  {
   "source": [
    "- - -\n",
    "\n",
    "${toc}\n",
    "\n",
    "- - -"
   ],
   "cell_type": "markdown",
   "metadata": {}
  },
  {
   "cell_type": "markdown",
   "metadata": {},
   "source": [
    "让我来康康，到底人类活动识别的深度学习模型都玩出什么花了。。。"
   ]
  },
  {
   "cell_type": "markdown",
   "metadata": {},
   "source": [
    "## 基本架构: 1D Recurrent Neural Network\n",
    "\n",
    "对于时域信号，基本架构一般是Recurrent Neural Network。\n",
    "\n",
    "这里复现一个machine learning mastery博文里介绍的用于人类活动识别的基础RNN架构。\n",
    "\n",
    "![Diagram](https://3qeqpr26caki16dnhd19sv6by6v-wpengine.netdna-ssl.com/wp-content/uploads/2018/07/Plot-of-the-Multi-Headed-1D-Convolutional-Neural-Network.png)"
   ]
  },
  {
   "cell_type": "markdown",
   "metadata": {},
   "source": [
    "### 输入\n",
    "\n",
    "这里我们考虑两种输入：基于窗口的特征向量A，和基于窗口的原始加速度计数据向量B。\n",
    "\n",
    "A: $1 \\times m \\times 1$\n",
    "\n",
    "$m$是总特征数。\n",
    "\n",
    "B: $1 \\times n \\times 3$\n",
    "\n",
    "$n$是单个窗口中的数据量，$3$这里指加速度计的$x$, $y$, $z$三个方向。\n",
    "\n",
    "所以这里有一个超参数就是窗口大小$w$，单位是秒。\n",
    "\n",
    "$$ n = w \\cdot SR $$\n",
    "\n",
    "$SR$是传感器的采样率。\n",
    "\n",
    "假设数据的总时长是$T$，那么总的窗口数就是$ \\frac{T}{w} $。\n",
    "\n",
    "所以输入tensor的维度就是，\n",
    "\n",
    "A: $\\frac{T}{w} \\times m \\times 1$\n",
    "\n",
    "B: $\\frac{T}{w} \\times (w \\cdot SR) \\times 3$"
   ]
  }
 ],
 "metadata": {
  "file_extension": ".py",
  "kernelspec": {
   "display_name": "Python 3",
   "language": "python",
   "name": "python3"
  },
  "language_info": {
   "codemirror_mode": {
    "name": "ipython",
    "version": 3
   },
   "file_extension": ".py",
   "mimetype": "text/x-python",
   "name": "python",
   "nbconvert_exporter": "python",
   "pygments_lexer": "ipython3",
   "version": "3.7.4"
  },
  "mimetype": "text/x-python",
  "name": "python",
  "npconvert_exporter": "python",
  "pygments_lexer": "ipython3",
  "version": 3
 },
 "nbformat": 4,
 "nbformat_minor": 2
}