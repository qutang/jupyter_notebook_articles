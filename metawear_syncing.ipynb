{
  "nbformat": 4,
  "nbformat_minor": 0,
  "metadata": {
    "file_extension": ".py",
    "kernelspec": {
      "display_name": "Python 3",
      "language": "python",
      "name": "python3"
    },
    "language_info": {
      "codemirror_mode": {
        "name": "ipython",
        "version": 3
      },
      "file_extension": ".py",
      "mimetype": "text/x-python",
      "name": "python",
      "nbconvert_exporter": "python",
      "pygments_lexer": "ipython3",
      "version": "3.7.4"
    },
    "mimetype": "text/x-python",
    "name": "python",
    "npconvert_exporter": "python",
    "pygments_lexer": "ipython3",
    "version": 3,
    "colab": {
      "name": "metawear_syncing.ipynb",
      "provenance": []
    }
  },
  "cells": [
    {
      "cell_type": "markdown",
      "metadata": {
        "id": "I69jahY1i0V2",
        "colab_type": "text"
      },
      "source": [
        "---\n",
        "title: 多个蓝牙加速度计的实时同步实验\n",
        "series: ml\n",
        "date: 2020-02-21 15:36:00\n",
        "type: post\n",
        "---"
      ]
    },
    {
      "source": [
        "- - -\n",
        "\n",
        "${toc}\n",
        "\n",
        "- - -"
      ],
      "cell_type": "markdown",
      "metadata": {}
    },
    {
      "cell_type": "markdown",
      "metadata": {
        "id": "IIKoC-1fi0V5",
        "colab_type": "text"
      },
      "source": [
        "## Setup and run streams"
      ]
    },
    {
      "cell_type": "markdown",
      "metadata": {
        "id": "EtCvkK8Si0V6",
        "colab_type": "text"
      },
      "source": [
        "Import packages"
      ]
    },
    {
      "cell_type": "code",
      "metadata": {
        "id": "-_NOuArni0V7",
        "colab_type": "code",
        "colab": {}
      },
      "source": [
        "import arus\n",
        "import pandas as pd\n",
        "import numpy as np\n",
        "import logging\n",
        "import time\n",
        "arus.dev.set_default_logging()"
      ],
      "execution_count": 0,
      "outputs": []
    },
    {
      "cell_type": "markdown",
      "metadata": {
        "id": "VRUjx8KEi0V_",
        "colab_type": "text"
      },
      "source": [
        "Scan nearby devices"
      ]
    },
    {
      "cell_type": "code",
      "metadata": {
        "id": "HMOHh-TFi0WA",
        "colab_type": "code",
        "colab": {},
        "outputId": "295c9f38-0678-46ed-873d-44dd3a9fd2ba"
      },
      "source": [
        "# Get device addr\n",
        "scanner = arus.plugins.metawear.MetaWearScanner()\n",
        "addrs = scanner.get_nearby_devices(max_devices=3)\n",
        "addrs = addrs[0:3]"
      ],
      "execution_count": 0,
      "outputs": [
        {
          "output_type": "stream",
          "text": [
            "[INFO]2020-02-05 19:31:41,626 <P13484-MainThread> Scanning metawear devices nearby...\n",
            "[INFO]2020-02-05 19:31:42,631 <P13484-MainThread> Scanning metawear devices nearby...\n",
            "[INFO]2020-02-05 19:31:43,632 <P13484-MainThread> Scanning metawear devices nearby...\n"
          ],
          "name": "stderr"
        }
      ]
    },
    {
      "cell_type": "markdown",
      "metadata": {
        "id": "Hq7mGhuvi0WF",
        "colab_type": "text"
      },
      "source": [
        "Setup streams"
      ]
    },
    {
      "cell_type": "code",
      "metadata": {
        "id": "l-OkaVFwi0WG",
        "colab_type": "code",
        "colab": {}
      },
      "source": [
        "# prepare streams\n",
        "streams = []\n",
        "ref_st = pd.Timestamp.now()\n",
        "for addr in addrs:\n",
        "    generator = arus.plugins.metawear.MetaWearAccelDataGenerator(\n",
        "        addr, sr=50, grange=8, buffer_size=100)\n",
        "    segmentor = arus.segmentor.SlidingWindowSegmentor(\n",
        "        window_size=2)\n",
        "    stream = arus.Stream(generator, segmentor,\n",
        "                         name='metawear-stream-{}'.format(addr))\n",
        "    streams.append(stream)"
      ],
      "execution_count": 0,
      "outputs": []
    },
    {
      "cell_type": "markdown",
      "metadata": {
        "id": "v9C1wFgwi0WK",
        "colab_type": "text"
      },
      "source": [
        "Start streams"
      ]
    },
    {
      "cell_type": "code",
      "metadata": {
        "id": "IPbuv1jki0WL",
        "colab_type": "code",
        "colab": {}
      },
      "source": [
        "# start stream\n",
        "results = {}\n",
        "for stream in streams:\n",
        "    stream.start(start_time=ref_st)\n",
        "    results[stream._name] = []\n"
      ],
      "execution_count": 0,
      "outputs": []
    },
    {
      "cell_type": "code",
      "metadata": {
        "id": "lGgov8Cfi0WP",
        "colab_type": "code",
        "colab": {},
        "outputId": "33e541e2-6dbe-4a38-95e5-ad6a859be273"
      },
      "source": [
        "done = [False] * len(streams)\n",
        "while True:\n",
        "    for stream in streams:\n",
        "        for data, st, et, _, _, name in stream.get_iterator():\n",
        "            data['ST'] = st\n",
        "            data['ET'] = et\n",
        "            i = streams.index(stream)\n",
        "            logging.info('data from: {}, {}'.format(\n",
        "                name, i))\n",
        "            results[name].append(data)\n",
        "            if len(results[name]) == 20:\n",
        "                done[i] = True\n",
        "            break\n",
        "    if np.all(done):\n",
        "        break\n",
        "\n",
        "for stream in streams:\n",
        "    stream.stop()\n",
        "\n",
        "combined = []\n",
        "for name, result in results.items():\n",
        "    name = name.replace(':', '')\n",
        "    result = pd.concat(result, sort=False)\n",
        "    combined.append(result)\n",
        "\n",
        "combined = pd.concat(combined, sort=False)\n",
        "\n"
      ],
      "execution_count": 0,
      "outputs": [
        {
          "output_type": "stream",
          "text": [
            "[INFO]2020-02-05 19:31:57,744 <P13484-metawear-stream-D5:D2:01:2B:E7:6D-loading> New metawear connected: MetaWearClient, D5:D2:01:2B:E7:6D: {'model': '5', 'hardware': '0.3', 'manufacturer': 'MbientLab Inc', 'serial': '031371', 'firmware': '1.5.0'}\n",
            "[INFO]2020-02-05 19:31:57,773 <P13484-metawear-stream-D5:D2:01:2B:E7:6D-loading> starting accelerometer module...\n",
            "[INFO]2020-02-05 19:31:57,774 <P13484-metawear-stream-D5:D2:01:2B:E7:6D-loading> Waiting for accelerometer callback to start...\n",
            "[INFO]2020-02-05 19:31:57,782 <P13484-Dummy-8> Accelerometer callback starts running...\n",
            "[INFO]2020-02-05 19:31:57,790 <P13484-metawear-stream-D5:D2:01:2B:E7:6D-loading> Accelerometer callback started successfully.\n",
            "[INFO]2020-02-05 19:31:57,833 <P13484-MainThread> data from: metawear-stream-D5:D2:01:2B:E7:6D, 0\n",
            "[INFO]2020-02-05 19:31:57,905 <P13484-MainThread> data from: metawear-stream-E6:F8:37:54:03:87, 1\n",
            "[INFO]2020-02-05 19:31:57,977 <P13484-MainThread> data from: metawear-stream-FF:EE:B8:99:0C:64, 2\n",
            "[INFO]2020-02-05 19:31:58,036 <P13484-MainThread> data from: metawear-stream-D5:D2:01:2B:E7:6D, 0\n",
            "[INFO]2020-02-05 19:31:58,056 <P13484-MainThread> data from: metawear-stream-E6:F8:37:54:03:87, 1\n",
            "[INFO]2020-02-05 19:31:58,100 <P13484-MainThread> data from: metawear-stream-FF:EE:B8:99:0C:64, 2\n",
            "[INFO]2020-02-05 19:31:58,116 <P13484-MainThread> data from: metawear-stream-D5:D2:01:2B:E7:6D, 0\n",
            "[INFO]2020-02-05 19:31:58,153 <P13484-MainThread> data from: metawear-stream-E6:F8:37:54:03:87, 1\n",
            "[INFO]2020-02-05 19:31:58,304 <P13484-MainThread> data from: metawear-stream-FF:EE:B8:99:0C:64, 2\n",
            "[INFO]2020-02-05 19:32:00,033 <P13484-MainThread> data from: metawear-stream-D5:D2:01:2B:E7:6D, 0\n",
            "[INFO]2020-02-05 19:32:00,265 <P13484-MainThread> data from: metawear-stream-E6:F8:37:54:03:87, 1\n",
            "[INFO]2020-02-05 19:32:00,281 <P13484-MainThread> data from: metawear-stream-FF:EE:B8:99:0C:64, 2\n",
            "[INFO]2020-02-05 19:32:01,896 <P13484-MainThread> data from: metawear-stream-D5:D2:01:2B:E7:6D, 0\n",
            "[INFO]2020-02-05 19:32:02,157 <P13484-MainThread> data from: metawear-stream-E6:F8:37:54:03:87, 1\n",
            "[INFO]2020-02-05 19:32:02,181 <P13484-MainThread> data from: metawear-stream-FF:EE:B8:99:0C:64, 2\n",
            "[INFO]2020-02-05 19:32:03,993 <P13484-MainThread> data from: metawear-stream-D5:D2:01:2B:E7:6D, 0\n",
            "[INFO]2020-02-05 19:32:04,277 <P13484-MainThread> data from: metawear-stream-E6:F8:37:54:03:87, 1\n",
            "[INFO]2020-02-05 19:32:04,350 <P13484-MainThread> data from: metawear-stream-FF:EE:B8:99:0C:64, 2\n",
            "[INFO]2020-02-05 19:32:06,126 <P13484-MainThread> data from: metawear-stream-D5:D2:01:2B:E7:6D, 0\n",
            "[INFO]2020-02-05 19:32:06,234 <P13484-MainThread> data from: metawear-stream-E6:F8:37:54:03:87, 1\n",
            "[INFO]2020-02-05 19:32:06,268 <P13484-MainThread> data from: metawear-stream-FF:EE:B8:99:0C:64, 2\n",
            "[INFO]2020-02-05 19:32:08,002 <P13484-MainThread> data from: metawear-stream-D5:D2:01:2B:E7:6D, 0\n",
            "[INFO]2020-02-05 19:32:08,081 <P13484-MainThread> data from: metawear-stream-E6:F8:37:54:03:87, 1\n",
            "[INFO]2020-02-05 19:32:08,174 <P13484-MainThread> data from: metawear-stream-FF:EE:B8:99:0C:64, 2\n",
            "[INFO]2020-02-05 19:32:10,122 <P13484-MainThread> data from: metawear-stream-D5:D2:01:2B:E7:6D, 0\n",
            "[INFO]2020-02-05 19:32:10,327 <P13484-MainThread> data from: metawear-stream-E6:F8:37:54:03:87, 1\n",
            "[INFO]2020-02-05 19:32:10,352 <P13484-MainThread> data from: metawear-stream-FF:EE:B8:99:0C:64, 2\n",
            "[INFO]2020-02-05 19:32:11,932 <P13484-MainThread> data from: metawear-stream-D5:D2:01:2B:E7:6D, 0\n",
            "[INFO]2020-02-05 19:32:12,252 <P13484-MainThread> data from: metawear-stream-E6:F8:37:54:03:87, 1\n",
            "[INFO]2020-02-05 19:32:12,315 <P13484-MainThread> data from: metawear-stream-FF:EE:B8:99:0C:64, 2\n",
            "[INFO]2020-02-05 19:32:13,867 <P13484-MainThread> data from: metawear-stream-D5:D2:01:2B:E7:6D, 0\n",
            "[INFO]2020-02-05 19:32:14,215 <P13484-MainThread> data from: metawear-stream-E6:F8:37:54:03:87, 1\n",
            "[INFO]2020-02-05 19:32:14,255 <P13484-MainThread> data from: metawear-stream-FF:EE:B8:99:0C:64, 2\n",
            "[INFO]2020-02-05 19:32:15,875 <P13484-MainThread> data from: metawear-stream-D5:D2:01:2B:E7:6D, 0\n",
            "[INFO]2020-02-05 19:32:16,263 <P13484-MainThread> data from: metawear-stream-E6:F8:37:54:03:87, 1\n",
            "[INFO]2020-02-05 19:32:16,312 <P13484-MainThread> data from: metawear-stream-FF:EE:B8:99:0C:64, 2\n",
            "[INFO]2020-02-05 19:32:17,709 <P13484-MainThread> data from: metawear-stream-D5:D2:01:2B:E7:6D, 0\n",
            "[INFO]2020-02-05 19:32:18,021 <P13484-MainThread> data from: metawear-stream-E6:F8:37:54:03:87, 1\n",
            "[INFO]2020-02-05 19:32:18,048 <P13484-MainThread> data from: metawear-stream-FF:EE:B8:99:0C:64, 2\n",
            "[INFO]2020-02-05 19:32:19,691 <P13484-MainThread> data from: metawear-stream-D5:D2:01:2B:E7:6D, 0\n",
            "[INFO]2020-02-05 19:32:20,260 <P13484-MainThread> data from: metawear-stream-E6:F8:37:54:03:87, 1\n",
            "[INFO]2020-02-05 19:32:20,286 <P13484-MainThread> data from: metawear-stream-FF:EE:B8:99:0C:64, 2\n",
            "[INFO]2020-02-05 19:32:21,739 <P13484-MainThread> data from: metawear-stream-D5:D2:01:2B:E7:6D, 0\n",
            "[INFO]2020-02-05 19:32:22,210 <P13484-MainThread> data from: metawear-stream-E6:F8:37:54:03:87, 1\n",
            "[INFO]2020-02-05 19:32:22,236 <P13484-MainThread> data from: metawear-stream-FF:EE:B8:99:0C:64, 2\n",
            "[INFO]2020-02-05 19:32:23,648 <P13484-MainThread> data from: metawear-stream-D5:D2:01:2B:E7:6D, 0\n",
            "[INFO]2020-02-05 19:32:24,105 <P13484-MainThread> data from: metawear-stream-E6:F8:37:54:03:87, 1\n",
            "[INFO]2020-02-05 19:32:24,176 <P13484-MainThread> data from: metawear-stream-FF:EE:B8:99:0C:64, 2\n",
            "[INFO]2020-02-05 19:32:25,650 <P13484-MainThread> data from: metawear-stream-D5:D2:01:2B:E7:6D, 0\n",
            "[INFO]2020-02-05 19:32:26,225 <P13484-MainThread> data from: metawear-stream-E6:F8:37:54:03:87, 1\n",
            "[INFO]2020-02-05 19:32:26,307 <P13484-MainThread> data from: metawear-stream-FF:EE:B8:99:0C:64, 2\n",
            "[INFO]2020-02-05 19:32:27,625 <P13484-MainThread> data from: metawear-stream-D5:D2:01:2B:E7:6D, 0\n",
            "[INFO]2020-02-05 19:32:28,095 <P13484-MainThread> data from: metawear-stream-E6:F8:37:54:03:87, 1\n",
            "[INFO]2020-02-05 19:32:28,120 <P13484-MainThread> data from: metawear-stream-FF:EE:B8:99:0C:64, 2\n",
            "[INFO]2020-02-05 19:32:29,599 <P13484-MainThread> data from: metawear-stream-D5:D2:01:2B:E7:6D, 0\n",
            "[INFO]2020-02-05 19:32:30,013 <P13484-MainThread> data from: metawear-stream-E6:F8:37:54:03:87, 1\n",
            "[INFO]2020-02-05 19:32:30,043 <P13484-MainThread> data from: metawear-stream-FF:EE:B8:99:0C:64, 2\n",
            "[INFO]2020-02-05 19:32:31,543 <P13484-MainThread> data from: metawear-stream-D5:D2:01:2B:E7:6D, 0\n",
            "[INFO]2020-02-05 19:32:32,020 <P13484-MainThread> data from: metawear-stream-E6:F8:37:54:03:87, 1\n",
            "[INFO]2020-02-05 19:32:32,075 <P13484-MainThread> data from: metawear-stream-FF:EE:B8:99:0C:64, 2\n",
            "[INFO]2020-02-05 19:32:33,238 <P13484-MainThread> Disconnected.\n",
            "[INFO]2020-02-05 19:32:34,510 <P13484-MainThread> Disconnected.\n",
            "[INFO]2020-02-05 19:32:35,743 <P13484-MainThread> Disconnected.\n"
          ],
          "name": "stderr"
        }
      ]
    },
    {
      "cell_type": "markdown",
      "metadata": {
        "id": "fdhYej4Ai0WT",
        "colab_type": "text"
      },
      "source": [
        " ## Analyze results\n",
        " ### Check the first sample timestamp\n",
        " 1. **referenced start time**: The start time used as a reference to segment the incoming data. This value is set before setting up and start the streams.\n",
        " 2. **first sample timestamp**: The timestamp of the first sample received from each device. This timestamp has been synced with the computer clock when receiving the data.\n",
        " 3. **first sample device timestamp**: The timestamp of the first sample received from each device. This timestamp has not been synced with the computer clock when receiving the data."
      ]
    },
    {
      "cell_type": "code",
      "metadata": {
        "id": "GjdRZ8qmi0WU",
        "colab_type": "code",
        "colab": {},
        "outputId": "67d1927e-7162-4c54-d0d1-35b19e071102"
      },
      "source": [
        "first_sample = combined.groupby(by=['MAC_ADDRESS']).apply(\n",
        "    lambda df: df[['HEADER_TIME_STAMP', 'NO_FIX']].iloc[0, :])\n",
        "first_sample = first_sample.rename(\n",
        "    columns={'HEADER_TIME_STAMP': 'first sample timestamp', 'NO_FIX': 'first sample device timestamp'})\n",
        "first_sample = first_sample.sort_values(by=['first sample timestamp'])\n",
        "first_sample['referenced start time'] = ref_st\n",
        "first_sample['diff_ref (s)'] = arus.Moment.get_durations(\n",
        "    first_sample['referenced start time'], first_sample['first sample timestamp'])\n",
        "first_sample['diff_device (s)'] = arus.Moment.get_durations(\n",
        "    first_sample['first sample device timestamp'],\n",
        "    first_sample['first sample timestamp'])\n",
        "first_sample.transpose()"
      ],
      "execution_count": 0,
      "outputs": [
        {
          "output_type": "execute_result",
          "data": {
            "text/html": [
              "<div>\n",
              "<style scoped>\n",
              "    .dataframe tbody tr th:only-of-type {\n",
              "        vertical-align: middle;\n",
              "    }\n",
              "\n",
              "    .dataframe tbody tr th {\n",
              "        vertical-align: top;\n",
              "    }\n",
              "\n",
              "    .dataframe thead th {\n",
              "        text-align: right;\n",
              "    }\n",
              "</style>\n",
              "<table border=\"1\" class=\"dataframe\">\n",
              "  <thead>\n",
              "    <tr style=\"text-align: right;\">\n",
              "      <th>MAC_ADDRESS</th>\n",
              "      <th>FF:EE:B8:99:0C:64</th>\n",
              "      <th>E6:F8:37:54:03:87</th>\n",
              "      <th>D5:D2:01:2B:E7:6D</th>\n",
              "    </tr>\n",
              "    <tr>\n",
              "      <th>0</th>\n",
              "      <th></th>\n",
              "      <th></th>\n",
              "      <th></th>\n",
              "    </tr>\n",
              "  </thead>\n",
              "  <tbody>\n",
              "    <tr>\n",
              "      <th>first sample timestamp</th>\n",
              "      <td>2020-02-05 19:31:54.511123</td>\n",
              "      <td>2020-02-05 19:31:54.950348</td>\n",
              "      <td>2020-02-05 19:31:57.779814</td>\n",
              "    </tr>\n",
              "    <tr>\n",
              "      <th>first sample device timestamp</th>\n",
              "      <td>2020-02-05 19:31:54.511000</td>\n",
              "      <td>2020-02-05 19:31:54.950000</td>\n",
              "      <td>2020-02-05 19:31:57.780000</td>\n",
              "    </tr>\n",
              "    <tr>\n",
              "      <th>referenced start time</th>\n",
              "      <td>2020-02-05 19:31:51.878749</td>\n",
              "      <td>2020-02-05 19:31:51.878749</td>\n",
              "      <td>2020-02-05 19:31:51.878749</td>\n",
              "    </tr>\n",
              "    <tr>\n",
              "      <th>diff_ref (s)</th>\n",
              "      <td>2.63237</td>\n",
              "      <td>3.0716</td>\n",
              "      <td>5.90107</td>\n",
              "    </tr>\n",
              "    <tr>\n",
              "      <th>diff_device (s)</th>\n",
              "      <td>0.000123</td>\n",
              "      <td>0.000348</td>\n",
              "      <td>-0.000186</td>\n",
              "    </tr>\n",
              "  </tbody>\n",
              "</table>\n",
              "</div>"
            ],
            "text/plain": [
              "MAC_ADDRESS                             FF:EE:B8:99:0C:64  \\\n",
              "0                                                           \n",
              "first sample timestamp         2020-02-05 19:31:54.511123   \n",
              "first sample device timestamp  2020-02-05 19:31:54.511000   \n",
              "referenced start time          2020-02-05 19:31:51.878749   \n",
              "diff_ref (s)                                      2.63237   \n",
              "diff_device (s)                                  0.000123   \n",
              "\n",
              "MAC_ADDRESS                             E6:F8:37:54:03:87  \\\n",
              "0                                                           \n",
              "first sample timestamp         2020-02-05 19:31:54.950348   \n",
              "first sample device timestamp  2020-02-05 19:31:54.950000   \n",
              "referenced start time          2020-02-05 19:31:51.878749   \n",
              "diff_ref (s)                                       3.0716   \n",
              "diff_device (s)                                  0.000348   \n",
              "\n",
              "MAC_ADDRESS                             D5:D2:01:2B:E7:6D  \n",
              "0                                                          \n",
              "first sample timestamp         2020-02-05 19:31:57.779814  \n",
              "first sample device timestamp  2020-02-05 19:31:57.780000  \n",
              "referenced start time          2020-02-05 19:31:51.878749  \n",
              "diff_ref (s)                                      5.90107  \n",
              "diff_device (s)                                 -0.000186  "
            ]
          },
          "metadata": {
            "tags": []
          },
          "execution_count": 11
        }
      ]
    },
    {
      "cell_type": "markdown",
      "metadata": {
        "id": "GGBSi4vHi0WX",
        "colab_type": "text"
      },
      "source": [
        " ### Check number of samples in each segments"
      ]
    },
    {
      "cell_type": "code",
      "metadata": {
        "id": "lD1hQtX9i0WY",
        "colab_type": "code",
        "colab": {},
        "outputId": "7ec1aa83-a5dc-49f2-c39e-dc8675f0ef2d"
      },
      "source": [
        "count_segment = combined.groupby(\n",
        "    by=['MAC_ADDRESS', 'ST']).size().to_frame(name='# of samples').reset_index(drop=False)\n",
        "count_segment = count_segment.pivot(\n",
        "    columns='MAC_ADDRESS', index='ST', values=['# of samples'])\n",
        "count_segment.columns = sorted(addrs)\n",
        "count_segment.reset_index(drop=False, inplace=True)\n",
        "count_segment.plot(x='ST', kind='line', ylim=(0, 210))"
      ],
      "execution_count": 0,
      "outputs": [
        {
          "output_type": "execute_result",
          "data": {
            "text/plain": [
              "<matplotlib.axes._subplots.AxesSubplot at 0x192224ffd30>"
            ]
          },
          "metadata": {
            "tags": []
          },
          "execution_count": 12
        },
        {
          "output_type": "display_data",
          "data": {
            "image/png": "[encoded data removed]",
            "image/svg+xml": "<?xml version=\"1.0\" encoding=\"utf-8\" standalone=\"no\"?>\r\n<!DOCTYPE svg PUBLIC \"-//W3C//DTD SVG 1.1//EN\"\r\n  \"http://www.w3.org/Graphics/SVG/1.1/DTD/svg11.dtd\">\r\n<!-- Created with matplotlib (https://matplotlib.org/) -->\r\n<svg height=\"261.755877pt\" version=\"1.1\" viewBox=\"0 0 382.506865 261.755877\" width=\"382.506865pt\" xmlns=\"http://www.w3.org/2000/svg\" xmlns:xlink=\"http://www.w3.org/1999/xlink\">\r\n <defs>\r\n  <style type=\"text/css\">\r\n*{stroke-linecap:butt;stroke-linejoin:round;}\r\n  </style>\r\n </defs>\r\n <g id=\"figure_1\">\r\n  <g id=\"patch_1\">\r\n   <path d=\"M 0 261.755877 \r\nL 382.506865 261.755877 \r\nL 382.506865 0 \r\nL 0 0 \r\nz\r\n\" style=\"fill:none;\"/>\r\n  </g>\r\n  <g id=\"axes_1\">\r\n   <g id=\"patch_2\">\r\n    <path d=\"M 40.506816 203.04 \r\nL 375.306816 203.04 \r\nL 375.306816 7.2 \r\nL 40.506816 7.2 \r\nz\r\n\" style=\"fill:#ffffff;\"/>\r\n   </g>\r\n   <g id=\"matplotlib.axis_1\">\r\n    <g id=\"xtick_1\">\r\n     <g id=\"line2d_1\">\r\n      <defs>\r\n       <path d=\"M 0 0 \r\nL 0 3.5 \r\n\" id=\"m17e2b152b6\" style=\"stroke:#000000;stroke-width:0.8;\"/>\r\n      </defs>\r\n      <g>\r\n       <use style=\"stroke:#000000;stroke-width:0.8;\" x=\"50.93457\" xlink:href=\"#m17e2b152b6\" y=\"203.04\"/>\r\n      </g>\r\n     </g>\r\n     <g id=\"text_1\">\r\n      <!-- 19:31:55 -->\r\n      <defs>\r\n       <path d=\"M 12.40625 8.296875 \r\nL 28.515625 8.296875 \r\nL 28.515625 63.921875 \r\nL 10.984375 60.40625 \r\nL 10.984375 69.390625 \r\nL 28.421875 72.90625 \r\nL 38.28125 72.90625 \r\nL 38.28125 8.296875 \r\nL 54.390625 8.296875 \r\nL 54.390625 0 \r\nL 12.40625 0 \r\nz\r\n\" id=\"DejaVuSans-49\"/>\r\n       <path d=\"M 10.984375 1.515625 \r\nL 10.984375 10.5 \r\nQ 14.703125 8.734375 18.5 7.8125 \r\nQ 22.3125 6.890625 25.984375 6.890625 \r\nQ 35.75 6.890625 40.890625 13.453125 \r\nQ 46.046875 20.015625 46.78125 33.40625 \r\nQ 43.953125 29.203125 39.59375 26.953125 \r\nQ 35.25 24.703125 29.984375 24.703125 \r\nQ 19.046875 24.703125 12.671875 31.3125 \r\nQ 6.296875 37.9375 6.296875 49.421875 \r\nQ 6.296875 60.640625 12.9375 67.421875 \r\nQ 19.578125 74.21875 30.609375 74.21875 \r\nQ 43.265625 74.21875 49.921875 64.515625 \r\nQ 56.59375 54.828125 56.59375 36.375 \r\nQ 56.59375 19.140625 48.40625 8.859375 \r\nQ 40.234375 -1.421875 26.421875 -1.421875 \r\nQ 22.703125 -1.421875 18.890625 -0.6875 \r\nQ 15.09375 0.046875 10.984375 1.515625 \r\nz\r\nM 30.609375 32.421875 \r\nQ 37.25 32.421875 41.125 36.953125 \r\nQ 45.015625 41.5 45.015625 49.421875 \r\nQ 45.015625 57.28125 41.125 61.84375 \r\nQ 37.25 66.40625 30.609375 66.40625 \r\nQ 23.96875 66.40625 20.09375 61.84375 \r\nQ 16.21875 57.28125 16.21875 49.421875 \r\nQ 16.21875 41.5 20.09375 36.953125 \r\nQ 23.96875 32.421875 30.609375 32.421875 \r\nz\r\n\" id=\"DejaVuSans-57\"/>\r\n       <path d=\"M 11.71875 12.40625 \r\nL 22.015625 12.40625 \r\nL 22.015625 0 \r\nL 11.71875 0 \r\nz\r\nM 11.71875 51.703125 \r\nL 22.015625 51.703125 \r\nL 22.015625 39.3125 \r\nL 11.71875 39.3125 \r\nz\r\n\" id=\"DejaVuSans-58\"/>\r\n       <path d=\"M 40.578125 39.3125 \r\nQ 47.65625 37.796875 51.625 33 \r\nQ 55.609375 28.21875 55.609375 21.1875 \r\nQ 55.609375 10.40625 48.1875 4.484375 \r\nQ 40.765625 -1.421875 27.09375 -1.421875 \r\nQ 22.515625 -1.421875 17.65625 -0.515625 \r\nQ 12.796875 0.390625 7.625 2.203125 \r\nL 7.625 11.71875 \r\nQ 11.71875 9.328125 16.59375 8.109375 \r\nQ 21.484375 6.890625 26.8125 6.890625 \r\nQ 36.078125 6.890625 40.9375 10.546875 \r\nQ 45.796875 14.203125 45.796875 21.1875 \r\nQ 45.796875 27.640625 41.28125 31.265625 \r\nQ 36.765625 34.90625 28.71875 34.90625 \r\nL 20.21875 34.90625 \r\nL 20.21875 43.015625 \r\nL 29.109375 43.015625 \r\nQ 36.375 43.015625 40.234375 45.921875 \r\nQ 44.09375 48.828125 44.09375 54.296875 \r\nQ 44.09375 59.90625 40.109375 62.90625 \r\nQ 36.140625 65.921875 28.71875 65.921875 \r\nQ 24.65625 65.921875 20.015625 65.03125 \r\nQ 15.375 64.15625 9.8125 62.3125 \r\nL 9.8125 71.09375 \r\nQ 15.4375 72.65625 20.34375 73.4375 \r\nQ 25.25 74.21875 29.59375 74.21875 \r\nQ 40.828125 74.21875 47.359375 69.109375 \r\nQ 53.90625 64.015625 53.90625 55.328125 \r\nQ 53.90625 49.265625 50.4375 45.09375 \r\nQ 46.96875 40.921875 40.578125 39.3125 \r\nz\r\n\" id=\"DejaVuSans-51\"/>\r\n       <path d=\"M 10.796875 72.90625 \r\nL 49.515625 72.90625 \r\nL 49.515625 64.59375 \r\nL 19.828125 64.59375 \r\nL 19.828125 46.734375 \r\nQ 21.96875 47.46875 24.109375 47.828125 \r\nQ 26.265625 48.1875 28.421875 48.1875 \r\nQ 40.625 48.1875 47.75 41.5 \r\nQ 54.890625 34.8125 54.890625 23.390625 \r\nQ 54.890625 11.625 47.5625 5.09375 \r\nQ 40.234375 -1.421875 26.90625 -1.421875 \r\nQ 22.3125 -1.421875 17.546875 -0.640625 \r\nQ 12.796875 0.140625 7.71875 1.703125 \r\nL 7.71875 11.625 \r\nQ 12.109375 9.234375 16.796875 8.0625 \r\nQ 21.484375 6.890625 26.703125 6.890625 \r\nQ 35.15625 6.890625 40.078125 11.328125 \r\nQ 45.015625 15.765625 45.015625 23.390625 \r\nQ 45.015625 31 40.078125 35.4375 \r\nQ 35.15625 39.890625 26.703125 39.890625 \r\nQ 22.75 39.890625 18.8125 39.015625 \r\nQ 14.890625 38.140625 10.796875 36.28125 \r\nz\r\n\" id=\"DejaVuSans-53\"/>\r\n      </defs>\r\n      <g transform=\"translate(10.999361 239.07669)rotate(-30)scale(0.1 -0.1)\">\r\n       <use xlink:href=\"#DejaVuSans-49\"/>\r\n       <use x=\"63.623047\" xlink:href=\"#DejaVuSans-57\"/>\r\n       <use x=\"127.246094\" xlink:href=\"#DejaVuSans-58\"/>\r\n       <use x=\"160.9375\" xlink:href=\"#DejaVuSans-51\"/>\r\n       <use x=\"224.560547\" xlink:href=\"#DejaVuSans-49\"/>\r\n       <use x=\"288.183594\" xlink:href=\"#DejaVuSans-58\"/>\r\n       <use x=\"321.875\" xlink:href=\"#DejaVuSans-53\"/>\r\n       <use x=\"385.498047\" xlink:href=\"#DejaVuSans-53\"/>\r\n      </g>\r\n     </g>\r\n    </g>\r\n    <g id=\"xtick_2\">\r\n     <g id=\"line2d_2\">\r\n      <g>\r\n       <use style=\"stroke:#000000;stroke-width:0.8;\" x=\"97.43457\" xlink:href=\"#m17e2b152b6\" y=\"203.04\"/>\r\n      </g>\r\n     </g>\r\n     <g id=\"text_2\">\r\n      <!-- 19:32:00 -->\r\n      <defs>\r\n       <path d=\"M 19.1875 8.296875 \r\nL 53.609375 8.296875 \r\nL 53.609375 0 \r\nL 7.328125 0 \r\nL 7.328125 8.296875 \r\nQ 12.9375 14.109375 22.625 23.890625 \r\nQ 32.328125 33.6875 34.8125 36.53125 \r\nQ 39.546875 41.84375 41.421875 45.53125 \r\nQ 43.3125 49.21875 43.3125 52.78125 \r\nQ 43.3125 58.59375 39.234375 62.25 \r\nQ 35.15625 65.921875 28.609375 65.921875 \r\nQ 23.96875 65.921875 18.8125 64.3125 \r\nQ 13.671875 62.703125 7.8125 59.421875 \r\nL 7.8125 69.390625 \r\nQ 13.765625 71.78125 18.9375 73 \r\nQ 24.125 74.21875 28.421875 74.21875 \r\nQ 39.75 74.21875 46.484375 68.546875 \r\nQ 53.21875 62.890625 53.21875 53.421875 \r\nQ 53.21875 48.921875 51.53125 44.890625 \r\nQ 49.859375 40.875 45.40625 35.40625 \r\nQ 44.1875 33.984375 37.640625 27.21875 \r\nQ 31.109375 20.453125 19.1875 8.296875 \r\nz\r\n\" id=\"DejaVuSans-50\"/>\r\n       <path d=\"M 31.78125 66.40625 \r\nQ 24.171875 66.40625 20.328125 58.90625 \r\nQ 16.5 51.421875 16.5 36.375 \r\nQ 16.5 21.390625 20.328125 13.890625 \r\nQ 24.171875 6.390625 31.78125 6.390625 \r\nQ 39.453125 6.390625 43.28125 13.890625 \r\nQ 47.125 21.390625 47.125 36.375 \r\nQ 47.125 51.421875 43.28125 58.90625 \r\nQ 39.453125 66.40625 31.78125 66.40625 \r\nz\r\nM 31.78125 74.21875 \r\nQ 44.046875 74.21875 50.515625 64.515625 \r\nQ 56.984375 54.828125 56.984375 36.375 \r\nQ 56.984375 17.96875 50.515625 8.265625 \r\nQ 44.046875 -1.421875 31.78125 -1.421875 \r\nQ 19.53125 -1.421875 13.0625 8.265625 \r\nQ 6.59375 17.96875 6.59375 36.375 \r\nQ 6.59375 54.828125 13.0625 64.515625 \r\nQ 19.53125 74.21875 31.78125 74.21875 \r\nz\r\n\" id=\"DejaVuSans-48\"/>\r\n      </defs>\r\n      <g transform=\"translate(57.499361 239.07669)rotate(-30)scale(0.1 -0.1)\">\r\n       <use xlink:href=\"#DejaVuSans-49\"/>\r\n       <use x=\"63.623047\" xlink:href=\"#DejaVuSans-57\"/>\r\n       <use x=\"127.246094\" xlink:href=\"#DejaVuSans-58\"/>\r\n       <use x=\"160.9375\" xlink:href=\"#DejaVuSans-51\"/>\r\n       <use x=\"224.560547\" xlink:href=\"#DejaVuSans-50\"/>\r\n       <use x=\"288.183594\" xlink:href=\"#DejaVuSans-58\"/>\r\n       <use x=\"321.875\" xlink:href=\"#DejaVuSans-48\"/>\r\n       <use x=\"385.498047\" xlink:href=\"#DejaVuSans-48\"/>\r\n      </g>\r\n     </g>\r\n    </g>\r\n    <g id=\"xtick_3\">\r\n     <g id=\"line2d_3\">\r\n      <g>\r\n       <use style=\"stroke:#000000;stroke-width:0.8;\" x=\"143.934448\" xlink:href=\"#m17e2b152b6\" y=\"203.04\"/>\r\n      </g>\r\n     </g>\r\n     <g id=\"text_3\">\r\n      <!-- 19:32:05 -->\r\n      <g transform=\"translate(103.999239 239.07669)rotate(-30)scale(0.1 -0.1)\">\r\n       <use xlink:href=\"#DejaVuSans-49\"/>\r\n       <use x=\"63.623047\" xlink:href=\"#DejaVuSans-57\"/>\r\n       <use x=\"127.246094\" xlink:href=\"#DejaVuSans-58\"/>\r\n       <use x=\"160.9375\" xlink:href=\"#DejaVuSans-51\"/>\r\n       <use x=\"224.560547\" xlink:href=\"#DejaVuSans-50\"/>\r\n       <use x=\"288.183594\" xlink:href=\"#DejaVuSans-58\"/>\r\n       <use x=\"321.875\" xlink:href=\"#DejaVuSans-48\"/>\r\n       <use x=\"385.498047\" xlink:href=\"#DejaVuSans-53\"/>\r\n      </g>\r\n     </g>\r\n    </g>\r\n    <g id=\"xtick_4\">\r\n     <g id=\"line2d_4\">\r\n      <g>\r\n       <use style=\"stroke:#000000;stroke-width:0.8;\" x=\"190.43457\" xlink:href=\"#m17e2b152b6\" y=\"203.04\"/>\r\n      </g>\r\n     </g>\r\n     <g id=\"text_4\">\r\n      <!-- 19:32:10 -->\r\n      <g transform=\"translate(150.499361 239.07669)rotate(-30)scale(0.1 -0.1)\">\r\n       <use xlink:href=\"#DejaVuSans-49\"/>\r\n       <use x=\"63.623047\" xlink:href=\"#DejaVuSans-57\"/>\r\n       <use x=\"127.246094\" xlink:href=\"#DejaVuSans-58\"/>\r\n       <use x=\"160.9375\" xlink:href=\"#DejaVuSans-51\"/>\r\n       <use x=\"224.560547\" xlink:href=\"#DejaVuSans-50\"/>\r\n       <use x=\"288.183594\" xlink:href=\"#DejaVuSans-58\"/>\r\n       <use x=\"321.875\" xlink:href=\"#DejaVuSans-49\"/>\r\n       <use x=\"385.498047\" xlink:href=\"#DejaVuSans-48\"/>\r\n      </g>\r\n     </g>\r\n    </g>\r\n    <g id=\"xtick_5\">\r\n     <g id=\"line2d_5\">\r\n      <g>\r\n       <use style=\"stroke:#000000;stroke-width:0.8;\" x=\"236.93457\" xlink:href=\"#m17e2b152b6\" y=\"203.04\"/>\r\n      </g>\r\n     </g>\r\n     <g id=\"text_5\">\r\n      <!-- 19:32:15 -->\r\n      <g transform=\"translate(196.999361 239.07669)rotate(-30)scale(0.1 -0.1)\">\r\n       <use xlink:href=\"#DejaVuSans-49\"/>\r\n       <use x=\"63.623047\" xlink:href=\"#DejaVuSans-57\"/>\r\n       <use x=\"127.246094\" xlink:href=\"#DejaVuSans-58\"/>\r\n       <use x=\"160.9375\" xlink:href=\"#DejaVuSans-51\"/>\r\n       <use x=\"224.560547\" xlink:href=\"#DejaVuSans-50\"/>\r\n       <use x=\"288.183594\" xlink:href=\"#DejaVuSans-58\"/>\r\n       <use x=\"321.875\" xlink:href=\"#DejaVuSans-49\"/>\r\n       <use x=\"385.498047\" xlink:href=\"#DejaVuSans-53\"/>\r\n      </g>\r\n     </g>\r\n    </g>\r\n    <g id=\"xtick_6\">\r\n     <g id=\"line2d_6\">\r\n      <g>\r\n       <use style=\"stroke:#000000;stroke-width:0.8;\" x=\"283.434448\" xlink:href=\"#m17e2b152b6\" y=\"203.04\"/>\r\n      </g>\r\n     </g>\r\n     <g id=\"text_6\">\r\n      <!-- 19:32:20 -->\r\n      <g transform=\"translate(243.499239 239.07669)rotate(-30)scale(0.1 -0.1)\">\r\n       <use xlink:href=\"#DejaVuSans-49\"/>\r\n       <use x=\"63.623047\" xlink:href=\"#DejaVuSans-57\"/>\r\n       <use x=\"127.246094\" xlink:href=\"#DejaVuSans-58\"/>\r\n       <use x=\"160.9375\" xlink:href=\"#DejaVuSans-51\"/>\r\n       <use x=\"224.560547\" xlink:href=\"#DejaVuSans-50\"/>\r\n       <use x=\"288.183594\" xlink:href=\"#DejaVuSans-58\"/>\r\n       <use x=\"321.875\" xlink:href=\"#DejaVuSans-50\"/>\r\n       <use x=\"385.498047\" xlink:href=\"#DejaVuSans-48\"/>\r\n      </g>\r\n     </g>\r\n    </g>\r\n    <g id=\"xtick_7\">\r\n     <g id=\"line2d_7\">\r\n      <g>\r\n       <use style=\"stroke:#000000;stroke-width:0.8;\" x=\"329.93457\" xlink:href=\"#m17e2b152b6\" y=\"203.04\"/>\r\n      </g>\r\n     </g>\r\n     <g id=\"text_7\">\r\n      <!-- 19:32:25 -->\r\n      <g transform=\"translate(289.999361 239.07669)rotate(-30)scale(0.1 -0.1)\">\r\n       <use xlink:href=\"#DejaVuSans-49\"/>\r\n       <use x=\"63.623047\" xlink:href=\"#DejaVuSans-57\"/>\r\n       <use x=\"127.246094\" xlink:href=\"#DejaVuSans-58\"/>\r\n       <use x=\"160.9375\" xlink:href=\"#DejaVuSans-51\"/>\r\n       <use x=\"224.560547\" xlink:href=\"#DejaVuSans-50\"/>\r\n       <use x=\"288.183594\" xlink:href=\"#DejaVuSans-58\"/>\r\n       <use x=\"321.875\" xlink:href=\"#DejaVuSans-50\"/>\r\n       <use x=\"385.498047\" xlink:href=\"#DejaVuSans-53\"/>\r\n      </g>\r\n     </g>\r\n    </g>\r\n    <g id=\"text_8\">\r\n     <!-- ST -->\r\n     <defs>\r\n      <path d=\"M 53.515625 70.515625 \r\nL 53.515625 60.890625 \r\nQ 47.90625 63.578125 42.921875 64.890625 \r\nQ 37.9375 66.21875 33.296875 66.21875 \r\nQ 25.25 66.21875 20.875 63.09375 \r\nQ 16.5 59.96875 16.5 54.203125 \r\nQ 16.5 49.359375 19.40625 46.890625 \r\nQ 22.3125 44.4375 30.421875 42.921875 \r\nL 36.375 41.703125 \r\nQ 47.40625 39.59375 52.65625 34.296875 \r\nQ 57.90625 29 57.90625 20.125 \r\nQ 57.90625 9.515625 50.796875 4.046875 \r\nQ 43.703125 -1.421875 29.984375 -1.421875 \r\nQ 24.8125 -1.421875 18.96875 -0.25 \r\nQ 13.140625 0.921875 6.890625 3.21875 \r\nL 6.890625 13.375 \r\nQ 12.890625 10.015625 18.65625 8.296875 \r\nQ 24.421875 6.59375 29.984375 6.59375 \r\nQ 38.421875 6.59375 43.015625 9.90625 \r\nQ 47.609375 13.234375 47.609375 19.390625 \r\nQ 47.609375 24.75 44.3125 27.78125 \r\nQ 41.015625 30.8125 33.5 32.328125 \r\nL 27.484375 33.5 \r\nQ 16.453125 35.6875 11.515625 40.375 \r\nQ 6.59375 45.0625 6.59375 53.421875 \r\nQ 6.59375 63.09375 13.40625 68.65625 \r\nQ 20.21875 74.21875 32.171875 74.21875 \r\nQ 37.3125 74.21875 42.625 73.28125 \r\nQ 47.953125 72.359375 53.515625 70.515625 \r\nz\r\n\" id=\"DejaVuSans-83\"/>\r\n      <path d=\"M -0.296875 72.90625 \r\nL 61.375 72.90625 \r\nL 61.375 64.59375 \r\nL 35.5 64.59375 \r\nL 35.5 0 \r\nL 25.59375 0 \r\nL 25.59375 64.59375 \r\nL -0.296875 64.59375 \r\nz\r\n\" id=\"DejaVuSans-84\"/>\r\n     </defs>\r\n     <g transform=\"translate(201.678691 252.47619)scale(0.1 -0.1)\">\r\n      <use xlink:href=\"#DejaVuSans-83\"/>\r\n      <use x=\"63.476562\" xlink:href=\"#DejaVuSans-84\"/>\r\n     </g>\r\n    </g>\r\n   </g>\r\n   <g id=\"matplotlib.axis_2\">\r\n    <g id=\"ytick_1\">\r\n     <g id=\"line2d_8\">\r\n      <defs>\r\n       <path d=\"M 0 0 \r\nL -3.5 0 \r\n\" id=\"m523ffcf1ac\" style=\"stroke:#000000;stroke-width:0.8;\"/>\r\n      </defs>\r\n      <g>\r\n       <use style=\"stroke:#000000;stroke-width:0.8;\" x=\"40.506816\" xlink:href=\"#m523ffcf1ac\" y=\"203.04\"/>\r\n      </g>\r\n     </g>\r\n     <g id=\"text_9\">\r\n      <!-- 0 -->\r\n      <g transform=\"translate(27.144316 206.839219)scale(0.1 -0.1)\">\r\n       <use xlink:href=\"#DejaVuSans-48\"/>\r\n      </g>\r\n     </g>\r\n    </g>\r\n    <g id=\"ytick_2\">\r\n     <g id=\"line2d_9\">\r\n      <g>\r\n       <use style=\"stroke:#000000;stroke-width:0.8;\" x=\"40.506816\" xlink:href=\"#m523ffcf1ac\" y=\"179.725714\"/>\r\n      </g>\r\n     </g>\r\n     <g id=\"text_10\">\r\n      <!-- 25 -->\r\n      <g transform=\"translate(20.781816 183.524933)scale(0.1 -0.1)\">\r\n       <use xlink:href=\"#DejaVuSans-50\"/>\r\n       <use x=\"63.623047\" xlink:href=\"#DejaVuSans-53\"/>\r\n      </g>\r\n     </g>\r\n    </g>\r\n    <g id=\"ytick_3\">\r\n     <g id=\"line2d_10\">\r\n      <g>\r\n       <use style=\"stroke:#000000;stroke-width:0.8;\" x=\"40.506816\" xlink:href=\"#m523ffcf1ac\" y=\"156.411429\"/>\r\n      </g>\r\n     </g>\r\n     <g id=\"text_11\">\r\n      <!-- 50 -->\r\n      <g transform=\"translate(20.781816 160.210647)scale(0.1 -0.1)\">\r\n       <use xlink:href=\"#DejaVuSans-53\"/>\r\n       <use x=\"63.623047\" xlink:href=\"#DejaVuSans-48\"/>\r\n      </g>\r\n     </g>\r\n    </g>\r\n    <g id=\"ytick_4\">\r\n     <g id=\"line2d_11\">\r\n      <g>\r\n       <use style=\"stroke:#000000;stroke-width:0.8;\" x=\"40.506816\" xlink:href=\"#m523ffcf1ac\" y=\"133.097143\"/>\r\n      </g>\r\n     </g>\r\n     <g id=\"text_12\">\r\n      <!-- 75 -->\r\n      <defs>\r\n       <path d=\"M 8.203125 72.90625 \r\nL 55.078125 72.90625 \r\nL 55.078125 68.703125 \r\nL 28.609375 0 \r\nL 18.3125 0 \r\nL 43.21875 64.59375 \r\nL 8.203125 64.59375 \r\nz\r\n\" id=\"DejaVuSans-55\"/>\r\n      </defs>\r\n      <g transform=\"translate(20.781816 136.896362)scale(0.1 -0.1)\">\r\n       <use xlink:href=\"#DejaVuSans-55\"/>\r\n       <use x=\"63.623047\" xlink:href=\"#DejaVuSans-53\"/>\r\n      </g>\r\n     </g>\r\n    </g>\r\n    <g id=\"ytick_5\">\r\n     <g id=\"line2d_12\">\r\n      <g>\r\n       <use style=\"stroke:#000000;stroke-width:0.8;\" x=\"40.506816\" xlink:href=\"#m523ffcf1ac\" y=\"109.782857\"/>\r\n      </g>\r\n     </g>\r\n     <g id=\"text_13\">\r\n      <!-- 100 -->\r\n      <g transform=\"translate(14.419316 113.582076)scale(0.1 -0.1)\">\r\n       <use xlink:href=\"#DejaVuSans-49\"/>\r\n       <use x=\"63.623047\" xlink:href=\"#DejaVuSans-48\"/>\r\n       <use x=\"127.246094\" xlink:href=\"#DejaVuSans-48\"/>\r\n      </g>\r\n     </g>\r\n    </g>\r\n    <g id=\"ytick_6\">\r\n     <g id=\"line2d_13\">\r\n      <g>\r\n       <use style=\"stroke:#000000;stroke-width:0.8;\" x=\"40.506816\" xlink:href=\"#m523ffcf1ac\" y=\"86.468571\"/>\r\n      </g>\r\n     </g>\r\n     <g id=\"text_14\">\r\n      <!-- 125 -->\r\n      <g transform=\"translate(14.419316 90.26779)scale(0.1 -0.1)\">\r\n       <use xlink:href=\"#DejaVuSans-49\"/>\r\n       <use x=\"63.623047\" xlink:href=\"#DejaVuSans-50\"/>\r\n       <use x=\"127.246094\" xlink:href=\"#DejaVuSans-53\"/>\r\n      </g>\r\n     </g>\r\n    </g>\r\n    <g id=\"ytick_7\">\r\n     <g id=\"line2d_14\">\r\n      <g>\r\n       <use style=\"stroke:#000000;stroke-width:0.8;\" x=\"40.506816\" xlink:href=\"#m523ffcf1ac\" y=\"63.154286\"/>\r\n      </g>\r\n     </g>\r\n     <g id=\"text_15\">\r\n      <!-- 150 -->\r\n      <g transform=\"translate(14.419316 66.953504)scale(0.1 -0.1)\">\r\n       <use xlink:href=\"#DejaVuSans-49\"/>\r\n       <use x=\"63.623047\" xlink:href=\"#DejaVuSans-53\"/>\r\n       <use x=\"127.246094\" xlink:href=\"#DejaVuSans-48\"/>\r\n      </g>\r\n     </g>\r\n    </g>\r\n    <g id=\"ytick_8\">\r\n     <g id=\"line2d_15\">\r\n      <g>\r\n       <use style=\"stroke:#000000;stroke-width:0.8;\" x=\"40.506816\" xlink:href=\"#m523ffcf1ac\" y=\"39.84\"/>\r\n      </g>\r\n     </g>\r\n     <g id=\"text_16\">\r\n      <!-- 175 -->\r\n      <g transform=\"translate(14.419316 43.639219)scale(0.1 -0.1)\">\r\n       <use xlink:href=\"#DejaVuSans-49\"/>\r\n       <use x=\"63.623047\" xlink:href=\"#DejaVuSans-55\"/>\r\n       <use x=\"127.246094\" xlink:href=\"#DejaVuSans-53\"/>\r\n      </g>\r\n     </g>\r\n    </g>\r\n    <g id=\"ytick_9\">\r\n     <g id=\"line2d_16\">\r\n      <g>\r\n       <use style=\"stroke:#000000;stroke-width:0.8;\" x=\"40.506816\" xlink:href=\"#m523ffcf1ac\" y=\"16.525714\"/>\r\n      </g>\r\n     </g>\r\n     <g id=\"text_17\">\r\n      <!-- 200 -->\r\n      <g transform=\"translate(14.419316 20.324933)scale(0.1 -0.1)\">\r\n       <use xlink:href=\"#DejaVuSans-50\"/>\r\n       <use x=\"63.623047\" xlink:href=\"#DejaVuSans-48\"/>\r\n       <use x=\"127.246094\" xlink:href=\"#DejaVuSans-48\"/>\r\n      </g>\r\n     </g>\r\n    </g>\r\n   </g>\r\n   <g id=\"line2d_17\">\r\n    <path clip-path=\"url(#p2a975125a1)\" d=\"M 59.106934 198.377143 \r\nL 77.706909 111.648 \r\nL 96.306885 109.782857 \r\nL 114.90686 109.782857 \r\nL 133.506836 109.782857 \r\nL 152.106934 109.782857 \r\nL 170.706909 109.782857 \r\nL 189.306885 109.782857 \r\nL 207.90686 109.782857 \r\nL 226.506836 109.782857 \r\nL 245.106812 109.782857 \r\nL 263.706909 109.782857 \r\nL 282.306885 109.782857 \r\nL 300.906982 109.782857 \r\nL 319.506958 109.782857 \r\nL 338.106934 109.782857 \r\nL 356.706909 109.782857 \r\nL 375.306885 109.782857 \r\n\" style=\"fill:none;stroke:#1f77b4;stroke-linecap:square;stroke-width:1.5;\"/>\r\n   </g>\r\n   <g id=\"line2d_18\">\r\n    <path clip-path=\"url(#p2a975125a1)\" d=\"M 40.506958 159.209143 \r\nL 59.106934 111.648 \r\nL 77.706909 112.580571 \r\nL 96.306885 109.782857 \r\nL 114.90686 109.782857 \r\nL 133.506836 111.648 \r\nL 152.106934 113.513143 \r\nL 170.706909 109.782857 \r\nL 189.306885 109.782857 \r\nL 207.90686 111.648 \r\nL 226.506836 109.782857 \r\nL 245.106812 111.648 \r\nL 263.706909 109.782857 \r\nL 282.306885 112.580571 \r\nL 300.906982 111.648 \r\nL 319.506958 109.782857 \r\nL 338.106934 109.782857 \r\nL 356.706909 111.648 \r\nL 375.306885 111.648 \r\n\" style=\"fill:none;stroke:#ff7f0e;stroke-linecap:square;stroke-width:1.5;\"/>\r\n   </g>\r\n   <g id=\"line2d_19\">\r\n    <path clip-path=\"url(#p2a975125a1)\" d=\"M 40.506958 138.692571 \r\nL 59.106934 109.782857 \r\nL 77.706909 109.782857 \r\nL 96.306885 109.782857 \r\nL 114.90686 109.782857 \r\nL 133.506836 109.782857 \r\nL 152.106934 109.782857 \r\nL 170.706909 109.782857 \r\nL 189.306885 109.782857 \r\nL 207.90686 109.782857 \r\nL 226.506836 109.782857 \r\nL 245.106812 109.782857 \r\nL 263.706909 109.782857 \r\nL 282.306885 109.782857 \r\nL 300.906982 109.782857 \r\nL 319.506958 109.782857 \r\nL 338.106934 109.782857 \r\nL 356.706909 109.782857 \r\nL 375.306885 109.782857 \r\n\" style=\"fill:none;stroke:#2ca02c;stroke-linecap:square;stroke-width:1.5;\"/>\r\n   </g>\r\n   <g id=\"patch_3\">\r\n    <path d=\"M 40.506816 203.04 \r\nL 40.506816 7.2 \r\n\" style=\"fill:none;stroke:#000000;stroke-linecap:square;stroke-linejoin:miter;stroke-width:0.8;\"/>\r\n   </g>\r\n   <g id=\"patch_4\">\r\n    <path d=\"M 375.306816 203.04 \r\nL 375.306816 7.2 \r\n\" style=\"fill:none;stroke:#000000;stroke-linecap:square;stroke-linejoin:miter;stroke-width:0.8;\"/>\r\n   </g>\r\n   <g id=\"patch_5\">\r\n    <path d=\"M 40.506958 203.04 \r\nL 375.306885 203.04 \r\n\" style=\"fill:none;stroke:#000000;stroke-linecap:square;stroke-linejoin:miter;stroke-width:0.8;\"/>\r\n   </g>\r\n   <g id=\"patch_6\">\r\n    <path d=\"M 40.506958 7.2 \r\nL 375.306885 7.2 \r\n\" style=\"fill:none;stroke:#000000;stroke-linecap:square;stroke-linejoin:miter;stroke-width:0.8;\"/>\r\n   </g>\r\n   <g id=\"legend_1\">\r\n    <g id=\"patch_7\">\r\n     <path d=\"M 238.645879 59.234375 \r\nL 368.306816 59.234375 \r\nQ 370.306816 59.234375 370.306816 57.234375 \r\nL 370.306816 14.2 \r\nQ 370.306816 12.2 368.306816 12.2 \r\nL 238.645879 12.2 \r\nQ 236.645879 12.2 236.645879 14.2 \r\nL 236.645879 57.234375 \r\nQ 236.645879 59.234375 238.645879 59.234375 \r\nz\r\n\" style=\"fill:#ffffff;opacity:0.8;stroke:#cccccc;stroke-linejoin:miter;\"/>\r\n    </g>\r\n    <g id=\"line2d_20\">\r\n     <path d=\"M 240.645879 20.298437 \r\nL 260.645879 20.298437 \r\n\" style=\"fill:none;stroke:#1f77b4;stroke-linecap:square;stroke-width:1.5;\"/>\r\n    </g>\r\n    <g id=\"line2d_21\"/>\r\n    <g id=\"text_18\">\r\n     <!-- D5:D2:01:2B:E7:6D -->\r\n     <defs>\r\n      <path d=\"M 19.671875 64.796875 \r\nL 19.671875 8.109375 \r\nL 31.59375 8.109375 \r\nQ 46.6875 8.109375 53.6875 14.9375 \r\nQ 60.6875 21.78125 60.6875 36.53125 \r\nQ 60.6875 51.171875 53.6875 57.984375 \r\nQ 46.6875 64.796875 31.59375 64.796875 \r\nz\r\nM 9.8125 72.90625 \r\nL 30.078125 72.90625 \r\nQ 51.265625 72.90625 61.171875 64.09375 \r\nQ 71.09375 55.28125 71.09375 36.53125 \r\nQ 71.09375 17.671875 61.125 8.828125 \r\nQ 51.171875 0 30.078125 0 \r\nL 9.8125 0 \r\nz\r\n\" id=\"DejaVuSans-68\"/>\r\n      <path d=\"M 19.671875 34.8125 \r\nL 19.671875 8.109375 \r\nL 35.5 8.109375 \r\nQ 43.453125 8.109375 47.28125 11.40625 \r\nQ 51.125 14.703125 51.125 21.484375 \r\nQ 51.125 28.328125 47.28125 31.5625 \r\nQ 43.453125 34.8125 35.5 34.8125 \r\nz\r\nM 19.671875 64.796875 \r\nL 19.671875 42.828125 \r\nL 34.28125 42.828125 \r\nQ 41.5 42.828125 45.03125 45.53125 \r\nQ 48.578125 48.25 48.578125 53.8125 \r\nQ 48.578125 59.328125 45.03125 62.0625 \r\nQ 41.5 64.796875 34.28125 64.796875 \r\nz\r\nM 9.8125 72.90625 \r\nL 35.015625 72.90625 \r\nQ 46.296875 72.90625 52.390625 68.21875 \r\nQ 58.5 63.53125 58.5 54.890625 \r\nQ 58.5 48.1875 55.375 44.234375 \r\nQ 52.25 40.28125 46.1875 39.3125 \r\nQ 53.46875 37.75 57.5 32.78125 \r\nQ 61.53125 27.828125 61.53125 20.40625 \r\nQ 61.53125 10.640625 54.890625 5.3125 \r\nQ 48.25 0 35.984375 0 \r\nL 9.8125 0 \r\nz\r\n\" id=\"DejaVuSans-66\"/>\r\n      <path d=\"M 9.8125 72.90625 \r\nL 55.90625 72.90625 \r\nL 55.90625 64.59375 \r\nL 19.671875 64.59375 \r\nL 19.671875 43.015625 \r\nL 54.390625 43.015625 \r\nL 54.390625 34.71875 \r\nL 19.671875 34.71875 \r\nL 19.671875 8.296875 \r\nL 56.78125 8.296875 \r\nL 56.78125 0 \r\nL 9.8125 0 \r\nz\r\n\" id=\"DejaVuSans-69\"/>\r\n      <path d=\"M 33.015625 40.375 \r\nQ 26.375 40.375 22.484375 35.828125 \r\nQ 18.609375 31.296875 18.609375 23.390625 \r\nQ 18.609375 15.53125 22.484375 10.953125 \r\nQ 26.375 6.390625 33.015625 6.390625 \r\nQ 39.65625 6.390625 43.53125 10.953125 \r\nQ 47.40625 15.53125 47.40625 23.390625 \r\nQ 47.40625 31.296875 43.53125 35.828125 \r\nQ 39.65625 40.375 33.015625 40.375 \r\nz\r\nM 52.59375 71.296875 \r\nL 52.59375 62.3125 \r\nQ 48.875 64.0625 45.09375 64.984375 \r\nQ 41.3125 65.921875 37.59375 65.921875 \r\nQ 27.828125 65.921875 22.671875 59.328125 \r\nQ 17.53125 52.734375 16.796875 39.40625 \r\nQ 19.671875 43.65625 24.015625 45.921875 \r\nQ 28.375 48.1875 33.59375 48.1875 \r\nQ 44.578125 48.1875 50.953125 41.515625 \r\nQ 57.328125 34.859375 57.328125 23.390625 \r\nQ 57.328125 12.15625 50.6875 5.359375 \r\nQ 44.046875 -1.421875 33.015625 -1.421875 \r\nQ 20.359375 -1.421875 13.671875 8.265625 \r\nQ 6.984375 17.96875 6.984375 36.375 \r\nQ 6.984375 53.65625 15.1875 63.9375 \r\nQ 23.390625 74.21875 37.203125 74.21875 \r\nQ 40.921875 74.21875 44.703125 73.484375 \r\nQ 48.484375 72.75 52.59375 71.296875 \r\nz\r\n\" id=\"DejaVuSans-54\"/>\r\n     </defs>\r\n     <g transform=\"translate(268.645879 23.798437)scale(0.1 -0.1)\">\r\n      <use xlink:href=\"#DejaVuSans-68\"/>\r\n      <use x=\"77.001953\" xlink:href=\"#DejaVuSans-53\"/>\r\n      <use x=\"140.625\" xlink:href=\"#DejaVuSans-58\"/>\r\n      <use x=\"174.316406\" xlink:href=\"#DejaVuSans-68\"/>\r\n      <use x=\"251.318359\" xlink:href=\"#DejaVuSans-50\"/>\r\n      <use x=\"314.941406\" xlink:href=\"#DejaVuSans-58\"/>\r\n      <use x=\"348.632812\" xlink:href=\"#DejaVuSans-48\"/>\r\n      <use x=\"412.255859\" xlink:href=\"#DejaVuSans-49\"/>\r\n      <use x=\"475.878906\" xlink:href=\"#DejaVuSans-58\"/>\r\n      <use x=\"509.570312\" xlink:href=\"#DejaVuSans-50\"/>\r\n      <use x=\"573.193359\" xlink:href=\"#DejaVuSans-66\"/>\r\n      <use x=\"641.796875\" xlink:href=\"#DejaVuSans-58\"/>\r\n      <use x=\"675.488281\" xlink:href=\"#DejaVuSans-69\"/>\r\n      <use x=\"738.671875\" xlink:href=\"#DejaVuSans-55\"/>\r\n      <use x=\"802.294922\" xlink:href=\"#DejaVuSans-58\"/>\r\n      <use x=\"835.986328\" xlink:href=\"#DejaVuSans-54\"/>\r\n      <use x=\"899.609375\" xlink:href=\"#DejaVuSans-68\"/>\r\n     </g>\r\n    </g>\r\n    <g id=\"line2d_22\">\r\n     <path d=\"M 240.645879 34.976562 \r\nL 260.645879 34.976562 \r\n\" style=\"fill:none;stroke:#ff7f0e;stroke-linecap:square;stroke-width:1.5;\"/>\r\n    </g>\r\n    <g id=\"line2d_23\"/>\r\n    <g id=\"text_19\">\r\n     <!-- E6:F8:37:54:03:87 -->\r\n     <defs>\r\n      <path d=\"M 9.8125 72.90625 \r\nL 51.703125 72.90625 \r\nL 51.703125 64.59375 \r\nL 19.671875 64.59375 \r\nL 19.671875 43.109375 \r\nL 48.578125 43.109375 \r\nL 48.578125 34.8125 \r\nL 19.671875 34.8125 \r\nL 19.671875 0 \r\nL 9.8125 0 \r\nz\r\n\" id=\"DejaVuSans-70\"/>\r\n      <path d=\"M 31.78125 34.625 \r\nQ 24.75 34.625 20.71875 30.859375 \r\nQ 16.703125 27.09375 16.703125 20.515625 \r\nQ 16.703125 13.921875 20.71875 10.15625 \r\nQ 24.75 6.390625 31.78125 6.390625 \r\nQ 38.8125 6.390625 42.859375 10.171875 \r\nQ 46.921875 13.96875 46.921875 20.515625 \r\nQ 46.921875 27.09375 42.890625 30.859375 \r\nQ 38.875 34.625 31.78125 34.625 \r\nz\r\nM 21.921875 38.8125 \r\nQ 15.578125 40.375 12.03125 44.71875 \r\nQ 8.5 49.078125 8.5 55.328125 \r\nQ 8.5 64.0625 14.71875 69.140625 \r\nQ 20.953125 74.21875 31.78125 74.21875 \r\nQ 42.671875 74.21875 48.875 69.140625 \r\nQ 55.078125 64.0625 55.078125 55.328125 \r\nQ 55.078125 49.078125 51.53125 44.71875 \r\nQ 48 40.375 41.703125 38.8125 \r\nQ 48.828125 37.15625 52.796875 32.3125 \r\nQ 56.78125 27.484375 56.78125 20.515625 \r\nQ 56.78125 9.90625 50.3125 4.234375 \r\nQ 43.84375 -1.421875 31.78125 -1.421875 \r\nQ 19.734375 -1.421875 13.25 4.234375 \r\nQ 6.78125 9.90625 6.78125 20.515625 \r\nQ 6.78125 27.484375 10.78125 32.3125 \r\nQ 14.796875 37.15625 21.921875 38.8125 \r\nz\r\nM 18.3125 54.390625 \r\nQ 18.3125 48.734375 21.84375 45.5625 \r\nQ 25.390625 42.390625 31.78125 42.390625 \r\nQ 38.140625 42.390625 41.71875 45.5625 \r\nQ 45.3125 48.734375 45.3125 54.390625 \r\nQ 45.3125 60.0625 41.71875 63.234375 \r\nQ 38.140625 66.40625 31.78125 66.40625 \r\nQ 25.390625 66.40625 21.84375 63.234375 \r\nQ 18.3125 60.0625 18.3125 54.390625 \r\nz\r\n\" id=\"DejaVuSans-56\"/>\r\n      <path d=\"M 37.796875 64.3125 \r\nL 12.890625 25.390625 \r\nL 37.796875 25.390625 \r\nz\r\nM 35.203125 72.90625 \r\nL 47.609375 72.90625 \r\nL 47.609375 25.390625 \r\nL 58.015625 25.390625 \r\nL 58.015625 17.1875 \r\nL 47.609375 17.1875 \r\nL 47.609375 0 \r\nL 37.796875 0 \r\nL 37.796875 17.1875 \r\nL 4.890625 17.1875 \r\nL 4.890625 26.703125 \r\nz\r\n\" id=\"DejaVuSans-52\"/>\r\n     </defs>\r\n     <g transform=\"translate(268.645879 38.476562)scale(0.1 -0.1)\">\r\n      <use xlink:href=\"#DejaVuSans-69\"/>\r\n      <use x=\"63.183594\" xlink:href=\"#DejaVuSans-54\"/>\r\n      <use x=\"126.806641\" xlink:href=\"#DejaVuSans-58\"/>\r\n      <use x=\"160.498047\" xlink:href=\"#DejaVuSans-70\"/>\r\n      <use x=\"218.017578\" xlink:href=\"#DejaVuSans-56\"/>\r\n      <use x=\"281.640625\" xlink:href=\"#DejaVuSans-58\"/>\r\n      <use x=\"315.332031\" xlink:href=\"#DejaVuSans-51\"/>\r\n      <use x=\"378.955078\" xlink:href=\"#DejaVuSans-55\"/>\r\n      <use x=\"442.578125\" xlink:href=\"#DejaVuSans-58\"/>\r\n      <use x=\"476.269531\" xlink:href=\"#DejaVuSans-53\"/>\r\n      <use x=\"539.892578\" xlink:href=\"#DejaVuSans-52\"/>\r\n      <use x=\"603.515625\" xlink:href=\"#DejaVuSans-58\"/>\r\n      <use x=\"637.207031\" xlink:href=\"#DejaVuSans-48\"/>\r\n      <use x=\"700.830078\" xlink:href=\"#DejaVuSans-51\"/>\r\n      <use x=\"764.453125\" xlink:href=\"#DejaVuSans-58\"/>\r\n      <use x=\"798.144531\" xlink:href=\"#DejaVuSans-56\"/>\r\n      <use x=\"861.767578\" xlink:href=\"#DejaVuSans-55\"/>\r\n     </g>\r\n    </g>\r\n    <g id=\"line2d_24\">\r\n     <path d=\"M 240.645879 49.654687 \r\nL 260.645879 49.654687 \r\n\" style=\"fill:none;stroke:#2ca02c;stroke-linecap:square;stroke-width:1.5;\"/>\r\n    </g>\r\n    <g id=\"line2d_25\"/>\r\n    <g id=\"text_20\">\r\n     <!-- FF:EE:B8:99:0C:64 -->\r\n     <defs>\r\n      <path d=\"M 64.40625 67.28125 \r\nL 64.40625 56.890625 \r\nQ 59.421875 61.53125 53.78125 63.8125 \r\nQ 48.140625 66.109375 41.796875 66.109375 \r\nQ 29.296875 66.109375 22.65625 58.46875 \r\nQ 16.015625 50.828125 16.015625 36.375 \r\nQ 16.015625 21.96875 22.65625 14.328125 \r\nQ 29.296875 6.6875 41.796875 6.6875 \r\nQ 48.140625 6.6875 53.78125 8.984375 \r\nQ 59.421875 11.28125 64.40625 15.921875 \r\nL 64.40625 5.609375 \r\nQ 59.234375 2.09375 53.4375 0.328125 \r\nQ 47.65625 -1.421875 41.21875 -1.421875 \r\nQ 24.65625 -1.421875 15.125 8.703125 \r\nQ 5.609375 18.84375 5.609375 36.375 \r\nQ 5.609375 53.953125 15.125 64.078125 \r\nQ 24.65625 74.21875 41.21875 74.21875 \r\nQ 47.75 74.21875 53.53125 72.484375 \r\nQ 59.328125 70.75 64.40625 67.28125 \r\nz\r\n\" id=\"DejaVuSans-67\"/>\r\n     </defs>\r\n     <g transform=\"translate(268.645879 53.154687)scale(0.1 -0.1)\">\r\n      <use xlink:href=\"#DejaVuSans-70\"/>\r\n      <use x=\"57.519531\" xlink:href=\"#DejaVuSans-70\"/>\r\n      <use x=\"114.929688\" xlink:href=\"#DejaVuSans-58\"/>\r\n      <use x=\"148.621094\" xlink:href=\"#DejaVuSans-69\"/>\r\n      <use x=\"211.804688\" xlink:href=\"#DejaVuSans-69\"/>\r\n      <use x=\"274.988281\" xlink:href=\"#DejaVuSans-58\"/>\r\n      <use x=\"308.679688\" xlink:href=\"#DejaVuSans-66\"/>\r\n      <use x=\"377.283203\" xlink:href=\"#DejaVuSans-56\"/>\r\n      <use x=\"440.90625\" xlink:href=\"#DejaVuSans-58\"/>\r\n      <use x=\"474.597656\" xlink:href=\"#DejaVuSans-57\"/>\r\n      <use x=\"538.220703\" xlink:href=\"#DejaVuSans-57\"/>\r\n      <use x=\"601.84375\" xlink:href=\"#DejaVuSans-58\"/>\r\n      <use x=\"635.535156\" xlink:href=\"#DejaVuSans-48\"/>\r\n      <use x=\"699.158203\" xlink:href=\"#DejaVuSans-67\"/>\r\n      <use x=\"768.982422\" xlink:href=\"#DejaVuSans-58\"/>\r\n      <use x=\"802.673828\" xlink:href=\"#DejaVuSans-54\"/>\r\n      <use x=\"866.296875\" xlink:href=\"#DejaVuSans-52\"/>\r\n     </g>\r\n    </g>\r\n   </g>\r\n  </g>\r\n </g>\r\n <defs>\r\n  <clipPath id=\"p2a975125a1\">\r\n   <rect height=\"195.84\" width=\"334.8\" x=\"40.506816\" y=\"7.2\"/>\r\n  </clipPath>\r\n </defs>\r\n</svg>\r\n",
            "text/plain": [
              "<Figure size 432x288 with 1 Axes>"
            ]
          },
          "metadata": {
            "tags": [],
            "needs_background": "light"
          }
        }
      ]
    }
  ]
}