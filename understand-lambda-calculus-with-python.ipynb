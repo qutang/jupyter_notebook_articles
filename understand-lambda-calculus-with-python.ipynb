{
 "cells": [
  {
   "cell_type": "markdown",
   "metadata": {},
   "source": [
    "---\n",
    "title: \"Understand 𝜆-calculus with Python\"\n",
    "date: \"2019-08-30T16:59:00\"\n",
    "series: programming\n",
    "excerpt: \"Lambda (𝜆)-calculus is known as the world's tiniest universal programming language that adopts the functional programming paradigm. Let's think about Arithmetic, or more basically numbers. How can we define a number as function in 𝜆-calculus?\"\n",
    "type: post\n",
    "---"
   ]
  },
  {
   "source": [
    "- - -\n",
    "\n",
    "${toc}\n",
    "\n",
    "- - -"
   ],
   "cell_type": "markdown",
   "metadata": {}
  },
  {
   "cell_type": "markdown",
   "metadata": {},
   "source": [
    "$\\lambda$-calculus is known as the world's tiniest universal programming language that adopts the functional programming paradigm.\n",
    "\n",
    "When I first learned its concepts, I was frustrated about the formulas and iterative variable substitutions. I also felt hard to understand how some fundamental functions (such as successor, logical) were derived.\n",
    "\n",
    "After digging more into it, I realized $\\lambda$-calcus shared the same spirit with many other languages (in fact, $\\lambda$ served as the foundation for many other languages) that support functional programming paradigm, such as Python. It used a minimal subset of concepts from the other modern languages while it was ensured to be Turing complete.\n",
    "\n",
    "Let's first review some basic concepts of $\\lambda$-calculus."
   ]
  },
  {
   "cell_type": "markdown",
   "metadata": {},
   "source": [
    "## Basic concepts of $\\lambda$-calculus"
   ]
  },
  {
   "cell_type": "markdown",
   "metadata": {},
   "source": [
    "In short, $\\lambda$-calculus is all about operations (a.k.a *functions*). All other concepts in a programming languages (such as *numbers*, *conditional logics*, and *bools*) are built upon *functions*. I somehow tasted a flavor of minimalism for the inventor of this language.\n",
    "\n",
    "The core idea of $\\lambda$-calculus is that by defining several fundamental operations (a.k.a *functions*) properly, we can gradually build the whole world layer by layer using these fundamental *functions**. This is exactly the spirit of functional programming that is applied to an extreme extent.\n",
    "\n",
    "Please review the [introductory material](http://www.inf.fu-berlin.de/lehre/WS03/alpi/lambda.pdf) to understand the following examples."
   ]
  },
  {
   "cell_type": "markdown",
   "metadata": {},
   "source": [
    "* __variable__ or __name__: a representation of *function*, or *application*. It usually is a mathmatical symbol, such as $\\theta$.\n",
    "\n",
    "* __function__: the implementation of *function* using *variables*. It follows a formula pattern as below.\n",
    "\n",
    "$$\\lambda <variables>.<variables>|<applications>$$\n",
    "\n",
    "* __application__: the calling of *function* on some other *variables*. It follows a formula pattern as below.\n",
    "\n",
    "$$<variable><variable>$$, or $$<variable>(<variable>)$$"
   ]
  },
  {
   "cell_type": "markdown",
   "metadata": {},
   "source": [
    "### Some classic examples"
   ]
  },
  {
   "cell_type": "markdown",
   "metadata": {},
   "source": [
    "1. numbers as functions\n",
    "\n",
    "    $$0 \\equiv \\lambda sz.z$$\n",
    "    $$1 \\equiv \\lambda sz.s(z)$$\n",
    "    $$n \\equiv \\lambda sz.s(s(..(s(z))..))$$\n",
    "    \n",
    "2. bools as functions\n",
    "\n",
    "    $$T \\equiv \\lambda xy.x$$\n",
    "    $$F \\equiv \\lambda xy.y$$\n",
    "    \n",
    "3. conditional logic as functions\n",
    "\n",
    "    $$ifelse \\equiv \\lambda cxy.cxy$$\n",
    "    \n",
    "These functions look like magics at the first glance. To reveal the insight, this tutorial will walk you through their underlying meanings, and the perceptual process to derive these formulas, and ultimately provide their Python implementations to help you understand."
   ]
  },
  {
   "cell_type": "markdown",
   "metadata": {},
   "source": [
    "## Python implementation of $\\lambda$-calculus\n",
    "\n",
    "We have to now change our mindsets to discard any unnecessary concepts in python, such as *operators*, *strings*, *bool*, *numbers*, *if*, *while* and etc. The only keyword we can use is basically `lambda`. And this is exactly where the name of `lambda` function originates from."
   ]
  },
  {
   "cell_type": "markdown",
   "metadata": {},
   "source": [
    "## Arithmetic\n",
    "\n",
    "Let's think about Numbers first. How can we define a number as function? Numbers are just symbols with an order, therefore it certainly can be functions, as long as the functions have some sort of order. \n",
    "\n",
    "With the concept of order in mind, we now can treat a number as the transformation of another number. In formula, it becomes,\n",
    "\n",
    "$$ n = f(m)$$ \n",
    "\n",
    "Where $n, m$ are different numbers.\n",
    "\n",
    "Let's try more, what if we want to get a third number from $m$ by using $n$ as an intermediator.\n",
    "\n",
    "$$ l = g(n) = g(f(m)) $$\n",
    "\n",
    "Hooray, now number $l$ is a second-order function of $m$. One can think of a more convenient way, what if $g=f$? Now we have a more elegant definition of numbers.\n",
    "\n",
    "Given the origin of numbers $0$ (think it as a *variable*), and a consistent transformer function $S$ that transforms a number to its adjacent counterpart, the next number $1$ (think it as a *variable*) may be defined as,\n",
    "\n",
    "$$ 1 = S(0) $$\n",
    "Then $$2 = S(1)$$\n",
    "And so on,\n",
    "\n",
    "Substitute them only using $S$ and $0$, we can get a $n$th-order function for number $n$,\n",
    "\n",
    "$$n = S(S..S(0)))$$\n",
    "\n",
    "Now the format becomes closer to the formula we've seen before in previous section, writing as a function in pseudocode,\n",
    "\n",
    "```\n",
    "function n (S, 0):\n",
    "    return S(S(..S(0)))\n",
    "```\n",
    "\n",
    "This is exactly the same with the formula in the previous section."
   ]
  },
  {
   "cell_type": "markdown",
   "metadata": {},
   "source": [
    "### number functions $0, 1, ..., n$ in Python"
   ]
  },
  {
   "cell_type": "code",
   "execution_count": 33,
   "metadata": {},
   "outputs": [],
   "source": [
    "# a function representing the fundamental operation: number zero.\n",
    "# The real meaning of this function is it always return the second parameter.\n",
    "zero = lambda s: lambda zero: zero\n",
    "\n",
    "# The real meaning of function one is it applies function s to the second parameter __once__.\n",
    "one = lambda s: lambda zero: s(zero)\n",
    "\n",
    "# The real meaning of function two is it applies function s to the second parameter __twice__.\n",
    "two = lambda s: lambda zero: s(s(zero))\n",
    "\n",
    "three = lambda s: lambda zero: s(s(s(zero)))"
   ]
  },
  {
   "cell_type": "markdown",
   "metadata": {},
   "source": [
    "It is important to also understand the real meanings of number functions `zero`, `one`, `two`. In the above derivation, we assumed function `s` is a transformer function between two numbers. But in reality, `s` could be any function. Here we use a function `plus_one` for test purpose, meaning it will add 1 to an input number."
   ]
  },
  {
   "cell_type": "code",
   "execution_count": 34,
   "metadata": {},
   "outputs": [],
   "source": [
    "plus_one = lambda x: x + 1"
   ]
  },
  {
   "cell_type": "markdown",
   "metadata": {},
   "source": [
    "Applying function `zero` to any other functions would result in an identity function $\\lambda x.x$."
   ]
  },
  {
   "cell_type": "code",
   "execution_count": 35,
   "metadata": {},
   "outputs": [
    {
     "data": {
      "text/plain": [
       "(0, 1)"
      ]
     },
     "execution_count": 35,
     "metadata": {},
     "output_type": "execute_result"
    }
   ],
   "source": [
    "identity = zero(plus_one)\n",
    "identity(0), identity(1)"
   ]
  },
  {
   "cell_type": "markdown",
   "metadata": {},
   "source": [
    "Applying function `one` to another function `x` would result in a function that will apply function `x` once to the input."
   ]
  },
  {
   "cell_type": "code",
   "execution_count": 36,
   "metadata": {},
   "outputs": [
    {
     "data": {
      "text/plain": [
       "(1, 2)"
      ]
     },
     "execution_count": 36,
     "metadata": {},
     "output_type": "execute_result"
    }
   ],
   "source": [
    "plus_one_once = one(plus_one)\n",
    "plus_one_once(0), plus_one_once(1)"
   ]
  },
  {
   "cell_type": "markdown",
   "metadata": {},
   "source": [
    "Applying function `two` to another function `x` would result in a function that will apply function `x` twice to the input."
   ]
  },
  {
   "cell_type": "code",
   "execution_count": 37,
   "metadata": {},
   "outputs": [
    {
     "data": {
      "text/plain": [
       "(2, 3)"
      ]
     },
     "execution_count": 37,
     "metadata": {},
     "output_type": "execute_result"
    }
   ],
   "source": [
    "plus_one_twice = two(plus_one)\n",
    "plus_one_twice(0), plus_one_twice(1)"
   ]
  },
  {
   "cell_type": "markdown",
   "metadata": {},
   "source": [
    "Similarly, applying function `n` to another function `x` would result in a function that will apply function `x` `n` times to the input."
   ]
  },
  {
   "cell_type": "markdown",
   "metadata": {},
   "source": [
    "### successor function $S$ in Python"
   ]
  },
  {
   "cell_type": "markdown",
   "metadata": {},
   "source": [
    "We've used the $S$ without defining it in the number functions, because we don't have to transform a number to another in the examples above. Now, we will explore to define $S$."
   ]
  },
  {
   "cell_type": "markdown",
   "metadata": {},
   "source": [
    "Let's first analyze the role of `successor` $S$ in terms of the functionality it represents. Literally, it means transforming a number function `n` so that `n` applies function `s` one more time than `n` to the input `m`."
   ]
  },
  {
   "cell_type": "markdown",
   "metadata": {},
   "source": [
    "Let's first define a function that applies `s` `n` times, which according to the meaning of number function, would be,\n",
    "\n",
    "$$n(s)$$"
   ]
  },
  {
   "cell_type": "markdown",
   "metadata": {},
   "source": [
    "Let's then apply this function to another input `m`,\n",
    "\n",
    "$$n(s)(m)$$"
   ]
  },
  {
   "cell_type": "markdown",
   "metadata": {},
   "source": [
    "Now we need to apply `s` one more time,\n",
    "\n",
    "$$s(n(s)(m))$$\n",
    "Or $$n(s)(s(m))$$"
   ]
  },
  {
   "cell_type": "markdown",
   "metadata": {},
   "source": [
    "Hooray, we've got the successor function $S$ now, writing as a function formula,\n",
    "\n",
    "$$ S(n, s, m): s(n(s)(m)) $$\n",
    "\n",
    "In Python, we can easily define this function with `lambda`,"
   ]
  },
  {
   "cell_type": "code",
   "execution_count": 38,
   "metadata": {},
   "outputs": [],
   "source": [
    "successor = lambda n: (lambda s: lambda m: s(n(s)(m)))"
   ]
  },
  {
   "cell_type": "markdown",
   "metadata": {},
   "source": [
    "Now, let's test the `successor` function using number functions and `plus_one`."
   ]
  },
  {
   "cell_type": "code",
   "execution_count": 39,
   "metadata": {},
   "outputs": [],
   "source": [
    "# the successor of function one should be function two named as `new_two`\n",
    "new_two = successor(one)"
   ]
  },
  {
   "cell_type": "code",
   "execution_count": 40,
   "metadata": {
    "scrolled": true
   },
   "outputs": [
    {
     "data": {
      "text/plain": [
       "True"
      ]
     },
     "execution_count": 40,
     "metadata": {},
     "output_type": "execute_result"
    }
   ],
   "source": [
    "new_plus_one_twice = new_two(plus_one)\n",
    "original_plus_one_twice = two(plus_one)\n",
    "# The new function `two` and the original function `two` are the same\n",
    "new_plus_one_twice(100) == original_plus_one_twice(100)"
   ]
  },
  {
   "cell_type": "code",
   "execution_count": 41,
   "metadata": {},
   "outputs": [
    {
     "data": {
      "text/plain": [
       "103"
      ]
     },
     "execution_count": 41,
     "metadata": {},
     "output_type": "execute_result"
    }
   ],
   "source": [
    "new_three = successor(two)\n",
    "new_plus_one_triple_times = new_three(plus_one)\n",
    "new_plus_one_triple_times(100)"
   ]
  },
  {
   "cell_type": "markdown",
   "metadata": {},
   "source": [
    "We can also chain the function `successor` to get later number functions."
   ]
  },
  {
   "cell_type": "code",
   "execution_count": 42,
   "metadata": {},
   "outputs": [
    {
     "data": {
      "text/plain": [
       "103"
      ]
     },
     "execution_count": 42,
     "metadata": {},
     "output_type": "execute_result"
    }
   ],
   "source": [
    "# applying successor three times on number function `zero` to get number function `three`\n",
    "new_three = successor(successor(successor(zero)))\n",
    "new_plus_one_triple_times = new_three(plus_one)\n",
    "new_plus_one_triple_times(100)"
   ]
  },
  {
   "cell_type": "markdown",
   "metadata": {},
   "source": [
    "Based on functions `zero` and `successor`, more complex arithmetic functions such as `add`, `mimus`, `predecessor`, `multiple`, `divide` may be defined."
   ]
  },
  {
   "cell_type": "markdown",
   "metadata": {},
   "source": [
    "### predecessor function $P$ in Python\n",
    "\n",
    "Predecessor function can be derived using only functions `successor` and `zero` (Note that it is impossible to define all number functions from `zero` to infinite numbers `n`, we have to rely on `successor` and `predecessor` given an arbitrary number function `n`).\n",
    "\n",
    "The predecessor of `number` function $n = \\lambda sz.s(...s(z))$ may be literally described as,\n",
    "\n",
    "> Transform function `n` so that it applies function `s` one less time to variable `z`.\n",
    "\n",
    "Because we only have access to function `zero`, `n` and `successor` function, we cannot go back from function `n` to `n-1`. But instead, going forward from `zero` using `successor` to `n`, while preserving the status of previous number `n-1` in the process.\n",
    "\n",
    "To achieve that, we can consider using two variables, as a pair, one stores the current number function `n` and the previous stores the previous number function `n-1`. \n",
    "\n",
    "$$ (n, n-1) $$\n",
    "\n",
    "We start from the pair of `zero` function and its predecessor, which is  assumed to be also `zero`.\n",
    "\n",
    "$$ (0, 0) $$\n",
    "\n",
    "And apply the successor function $S$ to the first variable in the pair, \n",
    "\n",
    "$$ S(0) $$\n",
    "\n",
    "Create a new pair using this new variable and the original variable,\n",
    "\n",
    "$$ (S(0), 0) = (1, 0) $$\n",
    "\n",
    "Apply this repeatatively,\n",
    "\n",
    "$$ (S(S(0)), S(0)) = (S(1), 1) = (2, 1) $$ \n",
    "\n",
    "For `n` times,\n",
    "\n",
    "$$ (S(S(..S(0)))), S(..S(0))) = (n, n-1)$$\n",
    "\n",
    "Then get the second variable as the predecessor of function `n`.\n",
    "\n",
    "We can divide the process into three fundamental functions. \n",
    "\n",
    "1. Pair function $p$: that accepts two variables and apply a function to the two variables.\n",
    "2. Selector function $T$ and $F$: $T$ accepts two variables and returns the first one and $F$ accepts two variables and returns the second one.\n",
    "3. Pair successor function $\\theta$: that accepts a pair function with variables $a$ and $b$ and transforms it into a new pair where the first element is the successor of `a` and the second element is `a`.\n",
    "\n",
    "Then we will use the three fundamental functions to form the predecessor function."
   ]
  },
  {
   "cell_type": "markdown",
   "metadata": {},
   "source": [
    "#### Pair function $p$\n",
    "\n",
    "Literally, pair function means applying function `z` to two variables `a` and `b`.\n",
    "\n",
    "$$ p = \\lambda z.zab $$\n",
    "\n",
    "In Python, it becomes,"
   ]
  },
  {
   "cell_type": "code",
   "execution_count": 43,
   "metadata": {},
   "outputs": [],
   "source": [
    "pair = lambda a: lambda b: lambda z: z(a)(b)"
   ]
  },
  {
   "cell_type": "code",
   "execution_count": 44,
   "metadata": {},
   "outputs": [
    {
     "data": {
      "text/plain": [
       "(2, 1)"
      ]
     },
     "execution_count": 44,
     "metadata": {},
     "output_type": "execute_result"
    }
   ],
   "source": [
    "# this means applying successor to one and two sequentially\n",
    "\n",
    "one_and_plus_one_pair = pair(one)(plus_one)\n",
    "zero_and_plus_one_pair = pair(zero)(plus_one)\n",
    "\n",
    "plus_one_twice = one_and_plus_one_pair(successor)\n",
    "plus_one_once = zero_and_plus_one_pair(successor)\n",
    "plus_one_twice(0), plus_one_once(0)"
   ]
  },
  {
   "cell_type": "markdown",
   "metadata": {},
   "source": [
    "#### Selector functions: $T$ and $F$\n",
    "\n",
    "Selector functions mean that the function can select the first or second element between two variables.\n",
    "\n",
    "$$ T = \\lambda xy.x $$\n",
    "\n",
    "$$ F = \\lambda xy.y $$\n",
    "\n",
    "In Python, they become,"
   ]
  },
  {
   "cell_type": "code",
   "execution_count": 45,
   "metadata": {},
   "outputs": [],
   "source": [
    "first = lambda x: lambda y: x\n",
    "second = lambda x: lambda y: y"
   ]
  },
  {
   "cell_type": "code",
   "execution_count": 46,
   "metadata": {},
   "outputs": [
    {
     "data": {
      "text/plain": [
       "(1, 2)"
      ]
     },
     "execution_count": 46,
     "metadata": {},
     "output_type": "execute_result"
    }
   ],
   "source": [
    "plus_one_once = first(one)(two)(plus_one)\n",
    "\n",
    "# or\n",
    "plus_one_twice = second(one)(two)(plus_one)\n",
    "\n",
    "plus_one_once(0), plus_one_twice(0)"
   ]
  },
  {
   "cell_type": "markdown",
   "metadata": {},
   "source": [
    "Combining selector and pair function, we can have functions to extract the first or second element in a pair."
   ]
  },
  {
   "cell_type": "code",
   "execution_count": 47,
   "metadata": {},
   "outputs": [
    {
     "data": {
      "text/plain": [
       "(1, 2)"
      ]
     },
     "execution_count": 47,
     "metadata": {},
     "output_type": "execute_result"
    }
   ],
   "source": [
    "one_two_pair = pair(one)(two)\n",
    "new_one = one_two_pair(first)\n",
    "new_two = one_two_pair(second)\n",
    "plus_one_once = new_one(plus_one)\n",
    "plus_one_twice = new_two(plus_one)\n",
    "\n",
    "plus_one_once(0), plus_one_twice(0)"
   ]
  },
  {
   "cell_type": "markdown",
   "metadata": {},
   "source": [
    "#### Pair successor function $\\theta$\n",
    "\n",
    "$\\theta$ function transforms a pair to a new pair where the first element is the successor of the first element of the original pair, and second pair is the first element of the original pair.\n",
    "\n",
    "$$ \\theta = \\lambda pz.z(S(pT))(pT) $$\n",
    "\n",
    "The result function would also be a pair function.\n",
    "\n",
    "In Python,"
   ]
  },
  {
   "cell_type": "code",
   "execution_count": 48,
   "metadata": {},
   "outputs": [],
   "source": [
    "theta = lambda p: lambda z: pair(successor(p(first)))(p(first))(z)"
   ]
  },
  {
   "cell_type": "code",
   "execution_count": 49,
   "metadata": {},
   "outputs": [
    {
     "data": {
      "text/plain": [
       "(1, 0)"
      ]
     },
     "execution_count": 49,
     "metadata": {},
     "output_type": "execute_result"
    }
   ],
   "source": [
    "successor_of_first_and_original_first_pair = theta(pair(zero)(zero))\n",
    "new_one = successor_of_first_and_original_first_pair(first)\n",
    "new_zero = successor_of_first_and_original_first_pair(second)\n",
    "new_one(plus_one)(0), new_zero(plus_one)(0)"
   ]
  },
  {
   "cell_type": "markdown",
   "metadata": {},
   "source": [
    "#### Predecessor\n",
    "\n",
    "Now we have all building blocks `theta`, `pair`, `first` and `second` functions. We may define the predecessor function as following according to the iterative derivation before,\n",
    "\n",
    "$$ P = \\lambda n.n(\\theta)(p00)F $$\n",
    "\n",
    "We first apply $\\theta$ $n$ times,\n",
    "\n",
    "$$n(\\theta)$$\n",
    "\n",
    "Then apply this function to the pair of `zero` and `zero`,\n",
    "\n",
    "$$n(\\theta)(p00)$$\n",
    "\n",
    "Now we get $(n, n-1)$, to select $n-1$, we apply this pair function to selector function $F$ to get the second element,\n",
    "\n",
    "$$n(\\theta)(p00)F$$\n",
    "\n",
    "Or in Python as,"
   ]
  },
  {
   "cell_type": "code",
   "execution_count": 50,
   "metadata": {},
   "outputs": [],
   "source": [
    "predecessor = lambda n: n(theta)(pair(zero)(zero))(second)"
   ]
  },
  {
   "cell_type": "code",
   "execution_count": 51,
   "metadata": {},
   "outputs": [
    {
     "data": {
      "text/plain": [
       "(1, 1, 2, 3)"
      ]
     },
     "execution_count": 51,
     "metadata": {},
     "output_type": "execute_result"
    }
   ],
   "source": [
    "new_zero = predecessor(zero)\n",
    "new_zero_from_one = predecessor(one)\n",
    "new_one = predecessor(two)\n",
    "new_two = predecessor(three)\n",
    "\n",
    "new_zero(plus_one)(1), new_zero_from_one(plus_one)(1), new_one(plus_one)(1), new_two(plus_one)(1)"
   ]
  },
  {
   "cell_type": "markdown",
   "metadata": {},
   "source": [
    "### Addition $A$ and subtraction $M$ functions in Python\n",
    "\n",
    "#### Addition function $A$\n",
    "\n",
    "Given two number functions $n$ and $m$, the addition function $A$ might be interpreted as applying successor function $S$ $n$ times to $m$.\n",
    "\n",
    "Therefore, we can have,\n",
    "\n",
    "$$ n + m := nSm $$\n",
    "\n",
    "As an additional function,\n",
    "\n",
    "$$ A := \\lambda nm.nSm $$\n",
    "\n",
    "In Python, we can have,"
   ]
  },
  {
   "cell_type": "code",
   "execution_count": 52,
   "metadata": {},
   "outputs": [],
   "source": [
    "add = lambda n: lambda m: n(successor)(m)"
   ]
  },
  {
   "cell_type": "markdown",
   "metadata": {},
   "source": [
    "Similarly, we use function `plus_one` for testing."
   ]
  },
  {
   "cell_type": "code",
   "execution_count": 53,
   "metadata": {},
   "outputs": [
    {
     "data": {
      "text/plain": [
       "5"
      ]
     },
     "execution_count": 53,
     "metadata": {},
     "output_type": "execute_result"
    }
   ],
   "source": [
    "five = add(two)(three)\n",
    "plus_one_five_times = five(plus_one)\n",
    "plus_one_five_times(0)"
   ]
  },
  {
   "cell_type": "markdown",
   "metadata": {},
   "source": [
    "#### Subtraction function $M$\n",
    "\n",
    "In similar way, given two number functions $n$ and $m$, the subtraction function $M$ might be interpreted as applying predecessor function $P$ $m$ times to $n$.\n",
    "\n",
    "Therefore, we can have,\n",
    "\n",
    "$$ n - m := mPn $$\n",
    "\n",
    "As an additional function,\n",
    "\n",
    "$$ M := \\lambda nm.mPn $$\n",
    "\n",
    "In Python, we can have,"
   ]
  },
  {
   "cell_type": "code",
   "execution_count": 54,
   "metadata": {},
   "outputs": [],
   "source": [
    "subtract = lambda n: lambda m: m(predecessor)(n)"
   ]
  },
  {
   "cell_type": "markdown",
   "metadata": {},
   "source": [
    "Similarly, we use function `plus_one` for testing."
   ]
  },
  {
   "cell_type": "code",
   "execution_count": 55,
   "metadata": {},
   "outputs": [
    {
     "data": {
      "text/plain": [
       "1"
      ]
     },
     "execution_count": 55,
     "metadata": {},
     "output_type": "execute_result"
    }
   ],
   "source": [
    "# 3 - 2\n",
    "one = subtract(three)(two)\n",
    "plus_one_once = one(plus_one)\n",
    "plus_one_once(0)"
   ]
  },
  {
   "cell_type": "code",
   "execution_count": 62,
   "metadata": {
    "scrolled": true
   },
   "outputs": [
    {
     "data": {
      "text/plain": [
       "True"
      ]
     },
     "execution_count": 62,
     "metadata": {},
     "output_type": "execute_result"
    }
   ],
   "source": [
    "# 2 - 3, because we didn't define negative numbers, this will result in zero function, \n",
    "# which voids the applied function.\n",
    "zero = subtract(two)(three)\n",
    "do_nothing = zero(plus_one)\n",
    "do_nothing(3) == 3"
   ]
  },
  {
   "cell_type": "markdown",
   "metadata": {},
   "source": [
    "### Multiplication function $T$ in Python\n",
    "\n",
    "We will defer the discussion of division function $D$ to the next post (about conditional), because we need to use conditional functions.\n",
    "\n",
    "For multiplication function, assume two number functions $n$ and $m$, $n \\times m$ might be interpreted as applying function $P$ $m$ times first to get a function that can be applied again $n$ times, and then applying this function to successor function $S$ on number function $0$ to get the final number function $m \\times n$.\n",
    "\n",
    "In equation,\n",
    "\n",
    "$$ m \\times n := n(m(S))(0) $$\n",
    "\n",
    "In a compact way,\n",
    "\n",
    "$$ T := \\lambda nm.n(mS)0 $$\n",
    "\n",
    "In Python,"
   ]
  },
  {
   "cell_type": "code",
   "execution_count": 68,
   "metadata": {},
   "outputs": [],
   "source": [
    "multiply = lambda n: lambda m: n(m(successor))(zero)"
   ]
  },
  {
   "cell_type": "markdown",
   "metadata": {},
   "source": [
    "Use function `plus_one` for testing."
   ]
  },
  {
   "cell_type": "code",
   "execution_count": 70,
   "metadata": {},
   "outputs": [
    {
     "data": {
      "text/plain": [
       "6"
      ]
     },
     "execution_count": 70,
     "metadata": {},
     "output_type": "execute_result"
    }
   ],
   "source": [
    "# 2 x 3\n",
    "six = multiply(two)(three)\n",
    "plus_one_six_times = six(plus_one)\n",
    "plus_one_six_times(0)"
   ]
  },
  {
   "cell_type": "code",
   "execution_count": 72,
   "metadata": {},
   "outputs": [
    {
     "data": {
      "text/plain": [
       "True"
      ]
     },
     "execution_count": 72,
     "metadata": {},
     "output_type": "execute_result"
    }
   ],
   "source": [
    "# 0 x 3\n",
    "zero_new = multiply(zero)(three)\n",
    "do_nothing = zero_new(plus_one)\n",
    "do_nothing(2) == 2"
   ]
  }
 ],
 "metadata": {
  "kernelspec": {
   "display_name": "Python 3",
   "language": "python",
   "name": "python3"
  },
  "language_info": {
   "codemirror_mode": {
    "name": "ipython",
    "version": 3
   },
   "file_extension": ".py",
   "mimetype": "text/x-python",
   "name": "python",
   "nbconvert_exporter": "python",
   "pygments_lexer": "ipython3",
   "version": "3.7.4"
  }
 },
 "nbformat": 4,
 "nbformat_minor": 2
}